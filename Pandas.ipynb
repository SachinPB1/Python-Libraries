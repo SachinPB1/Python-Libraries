{
 "cells": [
  {
   "cell_type": "markdown",
   "metadata": {},
   "source": [
    "# <font color='green'>                        Pandas DataFrames:</font>\n",
    "\n",
    "\n",
    "\n",
    "**Pandas** is a Python library used for data manipulation and analysis. Pandas provides a convenient way to analyze and clean data.\n",
    "\n",
    "The Pandas library introduces two new data structures to Python - **Series and DataFrame,** both of which are built on top of Numpy.\n",
    "\n",
    "\n",
    "\n",
    "\n",
    "### Reasons why we should use Pandas:\n",
    "\n",
    "- Handle Large Data Efficiently\n",
    "- Tabular Data Representation\n",
    "- Free and Open-Source\n",
    "\n",
    "\n",
    "\n",
    "\n",
    "### Pandas Used for:\n",
    "\n",
    "Pandas is a powerful library generally used for:\n",
    "\n",
    "- Data Cleaning\n",
    "- Data Transformation\n",
    "- Data Analysis\n",
    "- Machine Learning\n",
    "- Data Visualization\n",
    "\n",
    "\n"
   ]
  },
  {
   "cell_type": "code",
   "execution_count": 1,
   "metadata": {},
   "outputs": [
    {
     "name": "stdout",
     "output_type": "stream",
     "text": [
      "<PandasArray>\n",
      "[2, 4, 6, 8]\n",
      "Length: 4, dtype: int32\n"
     ]
    }
   ],
   "source": [
    "# We can create a Pandas array using a Python List.\n",
    "\n",
    "import pandas as pd\n",
    "\n",
    "data = [2, 4, 6, 8]    # create a list\n",
    "\n",
    "array1 = pd.array(data)   # create Pandas array using data\n",
    "print(array1)"
   ]
  },
  {
   "cell_type": "markdown",
   "metadata": {},
   "source": [
    "## <font color='blue'>Pandas Series:</font>\n",
    "\n",
    "A **Pandas Series** is a one-dimensional labeled array-like object that can hold data of any type.\n",
    "\n",
    "\n",
    "\n",
    "There are multiple ways to create a Pandas Series,  but the most common way is by using a Python list. \n"
   ]
  },
  {
   "cell_type": "code",
   "execution_count": 2,
   "metadata": {},
   "outputs": [
    {
     "name": "stdout",
     "output_type": "stream",
     "text": [
      "0    10\n",
      "1    20\n",
      "2    30\n",
      "3    40\n",
      "4    50\n",
      "dtype: int64\n"
     ]
    }
   ],
   "source": [
    "# create a series from the list\n",
    "\n",
    "import pandas as pd\n",
    "\n",
    "data = [10, 20, 30, 40, 50]\n",
    "series = pd.Series(data)\n",
    "print(series)"
   ]
  },
  {
   "cell_type": "markdown",
   "metadata": {},
   "source": [
    "## <font color='blue'>Pandas DataFrames:</font>\n",
    "\n",
    "\n",
    "A **DataFrame** is like a table format where the data is organized in rows and columns. It is a two-dimensional data structure like a two-dimensional array.\n",
    "\n",
    "####      Syntax :- pandas.DataFrame(data, index, columns)\n",
    "\n",
    "- data :- Which to be created.\n",
    "\n",
    "- index :- Its Optional.\n",
    "\n",
    "- columns :- Provide Coloumns names."
   ]
  },
  {
   "cell_type": "code",
   "execution_count": 3,
   "metadata": {},
   "outputs": [
    {
     "name": "stdout",
     "output_type": "stream",
     "text": [
      "     0\n",
      "0  420\n",
      "1  380\n",
      "2  390\n"
     ]
    }
   ],
   "source": [
    "# Create a simple Pandas DataFrame\n",
    "\n",
    "import pandas as pd\n",
    "\n",
    "data = [420, 380, 390]\n",
    "\n",
    "df = pd.DataFrame(data)\n",
    "print(df)"
   ]
  },
  {
   "cell_type": "markdown",
   "metadata": {},
   "source": [
    "####  1.  Creating DataFrame Using  List."
   ]
  },
  {
   "cell_type": "code",
   "execution_count": 4,
   "metadata": {},
   "outputs": [
    {
     "name": "stdout",
     "output_type": "stream",
     "text": [
      "   Subject  score\n",
      "0    Maths     90\n",
      "1    Stats     95\n",
      "2  English     85\n"
     ]
    }
   ],
   "source": [
    "import pandas as pd\n",
    "\n",
    "marks= [['Maths', 90],\n",
    "       ['Stats', 95],\n",
    "       ['English', 85]]\n",
    "\n",
    "# create a DataFrame from the list\n",
    "df = pd.DataFrame(marks, columns=['Subject', 'score'])\n",
    "\n",
    "print(df)"
   ]
  },
  {
   "cell_type": "markdown",
   "metadata": {},
   "source": [
    "#### 2. Creating DataFrame Using Python Dictionary."
   ]
  },
  {
   "cell_type": "code",
   "execution_count": 5,
   "metadata": {},
   "outputs": [
    {
     "name": "stdout",
     "output_type": "stream",
     "text": [
      "      Name  Age       City\n",
      "0   sachin   24  Bangalore\n",
      "1  Thanmay   30  Mangalore\n",
      "2    Tejas   26     Mysore\n"
     ]
    }
   ],
   "source": [
    "import pandas as pd\n",
    "\n",
    "# create a dictionary\n",
    "data = {'Name': ['sachin', 'Thanmay', 'Tejas'],\n",
    "       'Age': [24, 30, 26],\n",
    "       'City': ['Bangalore', 'Mangalore', 'Mysore']}\n",
    "df=pd.DataFrame(data)\n",
    "print(df)"
   ]
  },
  {
   "cell_type": "markdown",
   "metadata": {},
   "source": [
    "## <font color='blue'>Named Indexes:</font>\n",
    "\n",
    "In Pandas, an index refers to the labeled array that identifies rows or columns in a DataFrame.\n",
    "\n",
    "\n",
    "With the  help of index argument, we can name your own indexes."
   ]
  },
  {
   "cell_type": "code",
   "execution_count": 6,
   "metadata": {},
   "outputs": [
    {
     "name": "stdout",
     "output_type": "stream",
     "text": [
      "      calories  duration\n",
      "day1       420        50\n",
      "day2       380        40\n",
      "day3       390        45\n"
     ]
    }
   ],
   "source": [
    "import pandas as pd\n",
    "\n",
    "data = {\n",
    "  \"calories\": [420, 380, 390],\n",
    "  \"duration\": [50, 40, 45]\n",
    "}\n",
    "df = pd.DataFrame(data, index = [\"day1\", \"day2\", \"day3\"])\n",
    "\n",
    "print(df) "
   ]
  },
  {
   "cell_type": "markdown",
   "metadata": {},
   "source": [
    "Use the named index in the **loc()** attribute to return the specified row(s)."
   ]
  },
  {
   "cell_type": "code",
   "execution_count": 7,
   "metadata": {},
   "outputs": [
    {
     "name": "stdout",
     "output_type": "stream",
     "text": [
      "calories    380\n",
      "duration     40\n",
      "Name: day2, dtype: int64\n"
     ]
    }
   ],
   "source": [
    "#refer to the named index:\n",
    "\n",
    "print(df.loc[\"day2\"])\n"
   ]
  },
  {
   "cell_type": "markdown",
   "metadata": {},
   "source": [
    "## <font color='blue'>Dataframe Operations and Manipulations:</font>\n",
    "\n",
    "Pandas DataFrame objects come with a variety of built-in functions like **head(), tail() and info()** that allow us to view and analyze DataFrames.\n",
    "\n"
   ]
  },
  {
   "cell_type": "code",
   "execution_count": 8,
   "metadata": {},
   "outputs": [
    {
     "name": "stdout",
     "output_type": "stream",
     "text": [
      "         Name  Score  age\n",
      "0      sachin     95   25\n",
      "1       tejas     98   30\n",
      "2  samskruthi     90   35\n",
      "3     thanmay     80   28\n",
      "4       arjun     55   32\n",
      "5     sumanth     64   27\n",
      "6       gagan     75   40\n"
     ]
    }
   ],
   "source": [
    "import pandas as pd\n",
    "\n",
    "data={\"Name\":[\"sachin\",\"tejas\",\"samskruthi\",\"thanmay\",\"arjun\",\"sumanth\",\"gagan\"],\n",
    "       \"Score\":[95,98,90,80,55,64,75],\n",
    "        \"age\":[25, 30, 35, 28, 32, 27, 40,]}\n",
    "df=pd.DataFrame(data)\n",
    "print(df)"
   ]
  },
  {
   "cell_type": "code",
   "execution_count": 9,
   "metadata": {},
   "outputs": [
    {
     "data": {
      "text/html": [
       "<div>\n",
       "<style scoped>\n",
       "    .dataframe tbody tr th:only-of-type {\n",
       "        vertical-align: middle;\n",
       "    }\n",
       "\n",
       "    .dataframe tbody tr th {\n",
       "        vertical-align: top;\n",
       "    }\n",
       "\n",
       "    .dataframe thead th {\n",
       "        text-align: right;\n",
       "    }\n",
       "</style>\n",
       "<table border=\"1\" class=\"dataframe\">\n",
       "  <thead>\n",
       "    <tr style=\"text-align: right;\">\n",
       "      <th></th>\n",
       "      <th>Name</th>\n",
       "      <th>Score</th>\n",
       "      <th>age</th>\n",
       "    </tr>\n",
       "  </thead>\n",
       "  <tbody>\n",
       "    <tr>\n",
       "      <th>0</th>\n",
       "      <td>sachin</td>\n",
       "      <td>95</td>\n",
       "      <td>25</td>\n",
       "    </tr>\n",
       "    <tr>\n",
       "      <th>1</th>\n",
       "      <td>tejas</td>\n",
       "      <td>98</td>\n",
       "      <td>30</td>\n",
       "    </tr>\n",
       "    <tr>\n",
       "      <th>2</th>\n",
       "      <td>samskruthi</td>\n",
       "      <td>90</td>\n",
       "      <td>35</td>\n",
       "    </tr>\n",
       "    <tr>\n",
       "      <th>3</th>\n",
       "      <td>thanmay</td>\n",
       "      <td>80</td>\n",
       "      <td>28</td>\n",
       "    </tr>\n",
       "    <tr>\n",
       "      <th>4</th>\n",
       "      <td>arjun</td>\n",
       "      <td>55</td>\n",
       "      <td>32</td>\n",
       "    </tr>\n",
       "  </tbody>\n",
       "</table>\n",
       "</div>"
      ],
      "text/plain": [
       "         Name  Score  age\n",
       "0      sachin     95   25\n",
       "1       tejas     98   30\n",
       "2  samskruthi     90   35\n",
       "3     thanmay     80   28\n",
       "4       arjun     55   32"
      ]
     },
     "execution_count": 9,
     "metadata": {},
     "output_type": "execute_result"
    }
   ],
   "source": [
    "# display the first five rows\n",
    "df.head()"
   ]
  },
  {
   "cell_type": "code",
   "execution_count": 10,
   "metadata": {},
   "outputs": [
    {
     "data": {
      "text/html": [
       "<div>\n",
       "<style scoped>\n",
       "    .dataframe tbody tr th:only-of-type {\n",
       "        vertical-align: middle;\n",
       "    }\n",
       "\n",
       "    .dataframe tbody tr th {\n",
       "        vertical-align: top;\n",
       "    }\n",
       "\n",
       "    .dataframe thead th {\n",
       "        text-align: right;\n",
       "    }\n",
       "</style>\n",
       "<table border=\"1\" class=\"dataframe\">\n",
       "  <thead>\n",
       "    <tr style=\"text-align: right;\">\n",
       "      <th></th>\n",
       "      <th>Name</th>\n",
       "      <th>Score</th>\n",
       "      <th>age</th>\n",
       "    </tr>\n",
       "  </thead>\n",
       "  <tbody>\n",
       "    <tr>\n",
       "      <th>0</th>\n",
       "      <td>sachin</td>\n",
       "      <td>95</td>\n",
       "      <td>25</td>\n",
       "    </tr>\n",
       "    <tr>\n",
       "      <th>1</th>\n",
       "      <td>tejas</td>\n",
       "      <td>98</td>\n",
       "      <td>30</td>\n",
       "    </tr>\n",
       "    <tr>\n",
       "      <th>2</th>\n",
       "      <td>samskruthi</td>\n",
       "      <td>90</td>\n",
       "      <td>35</td>\n",
       "    </tr>\n",
       "  </tbody>\n",
       "</table>\n",
       "</div>"
      ],
      "text/plain": [
       "         Name  Score  age\n",
       "0      sachin     95   25\n",
       "1       tejas     98   30\n",
       "2  samskruthi     90   35"
      ]
     },
     "execution_count": 10,
     "metadata": {},
     "output_type": "execute_result"
    }
   ],
   "source": [
    "# display the first three rows\n",
    "df.head(3)"
   ]
  },
  {
   "cell_type": "code",
   "execution_count": 11,
   "metadata": {},
   "outputs": [
    {
     "data": {
      "text/html": [
       "<div>\n",
       "<style scoped>\n",
       "    .dataframe tbody tr th:only-of-type {\n",
       "        vertical-align: middle;\n",
       "    }\n",
       "\n",
       "    .dataframe tbody tr th {\n",
       "        vertical-align: top;\n",
       "    }\n",
       "\n",
       "    .dataframe thead th {\n",
       "        text-align: right;\n",
       "    }\n",
       "</style>\n",
       "<table border=\"1\" class=\"dataframe\">\n",
       "  <thead>\n",
       "    <tr style=\"text-align: right;\">\n",
       "      <th></th>\n",
       "      <th>Name</th>\n",
       "      <th>Score</th>\n",
       "      <th>age</th>\n",
       "    </tr>\n",
       "  </thead>\n",
       "  <tbody>\n",
       "    <tr>\n",
       "      <th>2</th>\n",
       "      <td>samskruthi</td>\n",
       "      <td>90</td>\n",
       "      <td>35</td>\n",
       "    </tr>\n",
       "    <tr>\n",
       "      <th>3</th>\n",
       "      <td>thanmay</td>\n",
       "      <td>80</td>\n",
       "      <td>28</td>\n",
       "    </tr>\n",
       "    <tr>\n",
       "      <th>4</th>\n",
       "      <td>arjun</td>\n",
       "      <td>55</td>\n",
       "      <td>32</td>\n",
       "    </tr>\n",
       "    <tr>\n",
       "      <th>5</th>\n",
       "      <td>sumanth</td>\n",
       "      <td>64</td>\n",
       "      <td>27</td>\n",
       "    </tr>\n",
       "    <tr>\n",
       "      <th>6</th>\n",
       "      <td>gagan</td>\n",
       "      <td>75</td>\n",
       "      <td>40</td>\n",
       "    </tr>\n",
       "  </tbody>\n",
       "</table>\n",
       "</div>"
      ],
      "text/plain": [
       "         Name  Score  age\n",
       "2  samskruthi     90   35\n",
       "3     thanmay     80   28\n",
       "4       arjun     55   32\n",
       "5     sumanth     64   27\n",
       "6       gagan     75   40"
      ]
     },
     "execution_count": 11,
     "metadata": {},
     "output_type": "execute_result"
    }
   ],
   "source": [
    "# display the last three rows\n",
    "df.tail()"
   ]
  },
  {
   "cell_type": "code",
   "execution_count": 12,
   "metadata": {},
   "outputs": [
    {
     "name": "stdout",
     "output_type": "stream",
     "text": [
      "<class 'pandas.core.frame.DataFrame'>\n",
      "RangeIndex: 7 entries, 0 to 6\n",
      "Data columns (total 3 columns):\n",
      "Name     7 non-null object\n",
      "Score    7 non-null int64\n",
      "age      7 non-null int64\n",
      "dtypes: int64(2), object(1)\n",
      "memory usage: 248.0+ bytes\n"
     ]
    }
   ],
   "source": [
    "# get info about dataframe\n",
    "df.info()"
   ]
  },
  {
   "cell_type": "markdown",
   "metadata": {},
   "source": [
    "### <font color='blue'>Adding rows/columns to DataFrame:</font>"
   ]
  },
  {
   "cell_type": "code",
   "execution_count": 13,
   "metadata": {},
   "outputs": [
    {
     "data": {
      "text/html": [
       "<div>\n",
       "<style scoped>\n",
       "    .dataframe tbody tr th:only-of-type {\n",
       "        vertical-align: middle;\n",
       "    }\n",
       "\n",
       "    .dataframe tbody tr th {\n",
       "        vertical-align: top;\n",
       "    }\n",
       "\n",
       "    .dataframe thead th {\n",
       "        text-align: right;\n",
       "    }\n",
       "</style>\n",
       "<table border=\"1\" class=\"dataframe\">\n",
       "  <thead>\n",
       "    <tr style=\"text-align: right;\">\n",
       "      <th></th>\n",
       "      <th>Name</th>\n",
       "      <th>Height</th>\n",
       "      <th>Qualification</th>\n",
       "    </tr>\n",
       "  </thead>\n",
       "  <tbody>\n",
       "    <tr>\n",
       "      <th>0</th>\n",
       "      <td>sachin</td>\n",
       "      <td>5.7</td>\n",
       "      <td>BSc</td>\n",
       "    </tr>\n",
       "    <tr>\n",
       "      <th>1</th>\n",
       "      <td>tejas</td>\n",
       "      <td>6.0</td>\n",
       "      <td>BBA</td>\n",
       "    </tr>\n",
       "    <tr>\n",
       "      <th>2</th>\n",
       "      <td>samskruthi</td>\n",
       "      <td>4.8</td>\n",
       "      <td>MBA</td>\n",
       "    </tr>\n",
       "    <tr>\n",
       "      <th>3</th>\n",
       "      <td>thanmay</td>\n",
       "      <td>5.9</td>\n",
       "      <td>BSc</td>\n",
       "    </tr>\n",
       "  </tbody>\n",
       "</table>\n",
       "</div>"
      ],
      "text/plain": [
       "         Name  Height Qualification\n",
       "0      sachin     5.7           BSc\n",
       "1       tejas     6.0           BBA\n",
       "2  samskruthi     4.8           MBA\n",
       "3     thanmay     5.9           BSc"
      ]
     },
     "execution_count": 13,
     "metadata": {},
     "output_type": "execute_result"
    }
   ],
   "source": [
    "import pandas as pd\n",
    "data = {'Name': [\"sachin\",\"tejas\",\"samskruthi\",\"thanmay\"],\n",
    "        'Height': [5.7, 6.0, 4.8, 5.9],\n",
    "        'Qualification': ['BSc', 'BBA', 'MBA', 'BSc']}\n",
    "df=pd.DataFrame(data)\n",
    "df"
   ]
  },
  {
   "cell_type": "code",
   "execution_count": 14,
   "metadata": {},
   "outputs": [
    {
     "name": "stdout",
     "output_type": "stream",
     "text": [
      "         Name  Height Qualification    address\n",
      "0      sachin     5.7           BSc  Bangalore\n",
      "1       tejas     6.0           BBA  Mangalore\n",
      "2  samskruthi     4.8           MBA     Mysore\n",
      "3     thanmay     5.9           BSc     hassan\n",
      "With Add a Row\n",
      "         Name  Height Qualification    address\n",
      "0      sachin     5.7           BSc  Bangalore\n",
      "1       tejas     6.0           BBA  Mangalore\n",
      "2  samskruthi     4.8           MBA     Mysore\n",
      "3     thanmay     5.9           BSc     hassan\n",
      "4         Amy     5.2           BIT        goa\n"
     ]
    }
   ],
   "source": [
    "# Add a New Column\n",
    "\n",
    "# declare a new list\n",
    "address = ['Bangalore', 'Mangalore', 'Mysore','hassan']\n",
    "# assign the list as a column\n",
    "df[\"address\"]=address\n",
    "print(df)\n",
    "\n",
    "\n",
    "# Add a new ROW\n",
    "print(\"With Add a Row\")\n",
    "\n",
    "df.loc[len(df.index)] = ['Amy', 5.2, 'BIT','goa']\n",
    "print(df)"
   ]
  },
  {
   "cell_type": "markdown",
   "metadata": {},
   "source": [
    "### <font color='blue'>Remove Rows/Columns from  DataFrame:</font>\n",
    "\n",
    "We can use **drop()** to delete rows and columns from a DataFrame."
   ]
  },
  {
   "cell_type": "code",
   "execution_count": 15,
   "metadata": {},
   "outputs": [
    {
     "data": {
      "text/html": [
       "<div>\n",
       "<style scoped>\n",
       "    .dataframe tbody tr th:only-of-type {\n",
       "        vertical-align: middle;\n",
       "    }\n",
       "\n",
       "    .dataframe tbody tr th {\n",
       "        vertical-align: top;\n",
       "    }\n",
       "\n",
       "    .dataframe thead th {\n",
       "        text-align: right;\n",
       "    }\n",
       "</style>\n",
       "<table border=\"1\" class=\"dataframe\">\n",
       "  <thead>\n",
       "    <tr style=\"text-align: right;\">\n",
       "      <th></th>\n",
       "      <th>Name</th>\n",
       "      <th>Age</th>\n",
       "      <th>City</th>\n",
       "    </tr>\n",
       "  </thead>\n",
       "  <tbody>\n",
       "    <tr>\n",
       "      <th>0</th>\n",
       "      <td>Alice</td>\n",
       "      <td>25</td>\n",
       "      <td>New York</td>\n",
       "    </tr>\n",
       "    <tr>\n",
       "      <th>1</th>\n",
       "      <td>Bob</td>\n",
       "      <td>30</td>\n",
       "      <td>London</td>\n",
       "    </tr>\n",
       "    <tr>\n",
       "      <th>2</th>\n",
       "      <td>Charlie</td>\n",
       "      <td>35</td>\n",
       "      <td>Paris</td>\n",
       "    </tr>\n",
       "    <tr>\n",
       "      <th>3</th>\n",
       "      <td>David</td>\n",
       "      <td>40</td>\n",
       "      <td>Tokyo</td>\n",
       "    </tr>\n",
       "    <tr>\n",
       "      <th>4</th>\n",
       "      <td>Felipe</td>\n",
       "      <td>22</td>\n",
       "      <td>Banglore</td>\n",
       "    </tr>\n",
       "  </tbody>\n",
       "</table>\n",
       "</div>"
      ],
      "text/plain": [
       "      Name  Age      City\n",
       "0    Alice   25  New York\n",
       "1      Bob   30    London\n",
       "2  Charlie   35     Paris\n",
       "3    David   40     Tokyo\n",
       "4   Felipe   22  Banglore"
      ]
     },
     "execution_count": 15,
     "metadata": {},
     "output_type": "execute_result"
    }
   ],
   "source": [
    "import pandas as pd\n",
    "\n",
    "D = {'Name': ['Alice', 'Bob', 'Charlie', 'David', 'Felipe'],\n",
    "        'Age': [25, 30, 35, 40, 22, ],\n",
    "        'City': ['New York', 'London', 'Paris', 'Tokyo',  'Banglore']}\n",
    "data = pd.DataFrame(D)\n",
    "data"
   ]
  },
  {
   "cell_type": "code",
   "execution_count": 16,
   "metadata": {},
   "outputs": [
    {
     "name": "stdout",
     "output_type": "stream",
     "text": [
      "      Name  Age      City\n",
      "0    Alice   25  New York\n",
      "1      Bob   30    London\n",
      "2  Charlie   35     Paris\n"
     ]
    }
   ],
   "source": [
    "# delete row with index 4\n",
    "data.drop(4,axis=0,inplace=True)\n",
    "\n",
    "# delete row with index 3\n",
    "data.drop(index=3,inplace=True)\n",
    "print(data)"
   ]
  },
  {
   "cell_type": "code",
   "execution_count": 17,
   "metadata": {},
   "outputs": [
    {
     "name": "stdout",
     "output_type": "stream",
     "text": [
      "      Name\n",
      "0    Alice\n",
      "1      Bob\n",
      "2  Charlie\n"
     ]
    }
   ],
   "source": [
    "# delete age column\n",
    "data.drop(\"Age\",axis=1,inplace=True)\n",
    "\n",
    "\n",
    "# delete city column \n",
    "data.drop(columns='City', inplace=True)\n",
    "print(data)"
   ]
  },
  {
   "cell_type": "markdown",
   "metadata": {},
   "source": [
    "### <font color='blue'>Rename  Rows/Columns name  in a DataFrame:</font>\n",
    "\n",
    "- We can rename columns in a Pandas DataFrame using the **rename()** function"
   ]
  },
  {
   "cell_type": "code",
   "execution_count": 18,
   "metadata": {},
   "outputs": [
    {
     "data": {
      "text/html": [
       "<div>\n",
       "<style scoped>\n",
       "    .dataframe tbody tr th:only-of-type {\n",
       "        vertical-align: middle;\n",
       "    }\n",
       "\n",
       "    .dataframe tbody tr th {\n",
       "        vertical-align: top;\n",
       "    }\n",
       "\n",
       "    .dataframe thead th {\n",
       "        text-align: right;\n",
       "    }\n",
       "</style>\n",
       "<table border=\"1\" class=\"dataframe\">\n",
       "  <thead>\n",
       "    <tr style=\"text-align: right;\">\n",
       "      <th></th>\n",
       "      <th>Name</th>\n",
       "      <th>Age</th>\n",
       "      <th>City</th>\n",
       "    </tr>\n",
       "  </thead>\n",
       "  <tbody>\n",
       "    <tr>\n",
       "      <th>0</th>\n",
       "      <td>Sachin</td>\n",
       "      <td>25</td>\n",
       "      <td>Bangalore</td>\n",
       "    </tr>\n",
       "    <tr>\n",
       "      <th>1</th>\n",
       "      <td>Tejas</td>\n",
       "      <td>28</td>\n",
       "      <td>Mysore</td>\n",
       "    </tr>\n",
       "    <tr>\n",
       "      <th>2</th>\n",
       "      <td>Thanmay</td>\n",
       "      <td>35</td>\n",
       "      <td>Hassan</td>\n",
       "    </tr>\n",
       "    <tr>\n",
       "      <th>3</th>\n",
       "      <td>Samskruthi</td>\n",
       "      <td>26</td>\n",
       "      <td>Mangalore</td>\n",
       "    </tr>\n",
       "  </tbody>\n",
       "</table>\n",
       "</div>"
      ],
      "text/plain": [
       "         Name  Age       City\n",
       "0      Sachin   25  Bangalore\n",
       "1       Tejas   28     Mysore\n",
       "2     Thanmay   35     Hassan\n",
       "3  Samskruthi   26  Mangalore"
      ]
     },
     "execution_count": 18,
     "metadata": {},
     "output_type": "execute_result"
    }
   ],
   "source": [
    "import pandas as pd\n",
    "\n",
    "# create a sample DataFrame\n",
    "data = {'Name': ['Sachin', 'Tejas', 'Thanmay', 'Samskruthi'],\n",
    "        'Age': [25, 28, 35, 26],\n",
    "        'City': ['Bangalore', 'Mysore', 'Hassan', 'Mangalore']}\n",
    "df = pd.DataFrame(data)\n",
    "df"
   ]
  },
  {
   "cell_type": "code",
   "execution_count": 19,
   "metadata": {},
   "outputs": [
    {
     "data": {
      "text/html": [
       "<div>\n",
       "<style scoped>\n",
       "    .dataframe tbody tr th:only-of-type {\n",
       "        vertical-align: middle;\n",
       "    }\n",
       "\n",
       "    .dataframe tbody tr th {\n",
       "        vertical-align: top;\n",
       "    }\n",
       "\n",
       "    .dataframe thead th {\n",
       "        text-align: right;\n",
       "    }\n",
       "</style>\n",
       "<table border=\"1\" class=\"dataframe\">\n",
       "  <thead>\n",
       "    <tr style=\"text-align: right;\">\n",
       "      <th></th>\n",
       "      <th>First_Name</th>\n",
       "      <th>Number</th>\n",
       "      <th>Address</th>\n",
       "    </tr>\n",
       "  </thead>\n",
       "  <tbody>\n",
       "    <tr>\n",
       "      <th>0</th>\n",
       "      <td>Sachin</td>\n",
       "      <td>25</td>\n",
       "      <td>Bangalore</td>\n",
       "    </tr>\n",
       "    <tr>\n",
       "      <th>1</th>\n",
       "      <td>Tejas</td>\n",
       "      <td>28</td>\n",
       "      <td>Mysore</td>\n",
       "    </tr>\n",
       "    <tr>\n",
       "      <th>2</th>\n",
       "      <td>Thanmay</td>\n",
       "      <td>35</td>\n",
       "      <td>Hassan</td>\n",
       "    </tr>\n",
       "    <tr>\n",
       "      <th>3</th>\n",
       "      <td>Samskruthi</td>\n",
       "      <td>26</td>\n",
       "      <td>Mangalore</td>\n",
       "    </tr>\n",
       "  </tbody>\n",
       "</table>\n",
       "</div>"
      ],
      "text/plain": [
       "   First_Name  Number    Address\n",
       "0      Sachin      25  Bangalore\n",
       "1       Tejas      28     Mysore\n",
       "2     Thanmay      35     Hassan\n",
       "3  Samskruthi      26  Mangalore"
      ]
     },
     "execution_count": 19,
     "metadata": {},
     "output_type": "execute_result"
    }
   ],
   "source": [
    "# rename column 'Name' to 'First_Name'\n",
    "df.rename(columns= {'Name': 'First_Name'}, inplace=True)\n",
    "\n",
    "# rename columns 'Age' and 'City'\n",
    "df.rename(mapper= {'Age': 'Number', 'City':'Address'}, axis=1, inplace=True)\n",
    "df"
   ]
  },
  {
   "cell_type": "code",
   "execution_count": 20,
   "metadata": {},
   "outputs": [
    {
     "data": {
      "text/html": [
       "<div>\n",
       "<style scoped>\n",
       "    .dataframe tbody tr th:only-of-type {\n",
       "        vertical-align: middle;\n",
       "    }\n",
       "\n",
       "    .dataframe tbody tr th {\n",
       "        vertical-align: top;\n",
       "    }\n",
       "\n",
       "    .dataframe thead th {\n",
       "        text-align: right;\n",
       "    }\n",
       "</style>\n",
       "<table border=\"1\" class=\"dataframe\">\n",
       "  <thead>\n",
       "    <tr style=\"text-align: right;\">\n",
       "      <th></th>\n",
       "      <th>First_Name</th>\n",
       "      <th>Number</th>\n",
       "      <th>Address</th>\n",
       "    </tr>\n",
       "  </thead>\n",
       "  <tbody>\n",
       "    <tr>\n",
       "      <th>7</th>\n",
       "      <td>Sachin</td>\n",
       "      <td>25</td>\n",
       "      <td>Bangalore</td>\n",
       "    </tr>\n",
       "    <tr>\n",
       "      <th>1</th>\n",
       "      <td>Tejas</td>\n",
       "      <td>28</td>\n",
       "      <td>Mysore</td>\n",
       "    </tr>\n",
       "    <tr>\n",
       "      <th>2</th>\n",
       "      <td>Thanmay</td>\n",
       "      <td>35</td>\n",
       "      <td>Hassan</td>\n",
       "    </tr>\n",
       "    <tr>\n",
       "      <th>3</th>\n",
       "      <td>Samskruthi</td>\n",
       "      <td>26</td>\n",
       "      <td>Mangalore</td>\n",
       "    </tr>\n",
       "  </tbody>\n",
       "</table>\n",
       "</div>"
      ],
      "text/plain": [
       "   First_Name  Number    Address\n",
       "7      Sachin      25  Bangalore\n",
       "1       Tejas      28     Mysore\n",
       "2     Thanmay      35     Hassan\n",
       "3  Samskruthi      26  Mangalore"
      ]
     },
     "execution_count": 20,
     "metadata": {},
     "output_type": "execute_result"
    }
   ],
   "source": [
    "# rename column one index label\n",
    "\n",
    "df.rename(index={0: 7}, inplace=True)\n",
    "df"
   ]
  },
  {
   "cell_type": "markdown",
   "metadata": {},
   "source": [
    "### <font color='blue'>Indexing and Slicing:</font>\n",
    "\n",
    "\n",
    "- We can access columns of a DataFrame using the **bracket ([ ]) operator.**\n",
    "\n",
    "\n",
    "- We can use **.loc** to access the data from a dataframe using its indexes."
   ]
  },
  {
   "cell_type": "code",
   "execution_count": 21,
   "metadata": {},
   "outputs": [
    {
     "data": {
      "text/plain": [
       "0      Alice\n",
       "1        Bob\n",
       "2    Charlie\n",
       "3      David\n",
       "4        Eve\n",
       "Name: Name, dtype: object"
      ]
     },
     "execution_count": 21,
     "metadata": {},
     "output_type": "execute_result"
    }
   ],
   "source": [
    "import pandas as pd\n",
    "\n",
    "data = {\n",
    "    'Name': ['Alice', 'Bob', 'Charlie', 'David', 'Eve'],\n",
    "    'Age': [25, 32, 18, 47, 33],\n",
    "    'City': ['New York', 'Paris', 'London', 'Tokyo', 'Sydney'],\n",
    "    'Qualification': ['BSc', 'BBA', 'MBA', 'BSc','BE']}\n",
    "\n",
    "df = pd.DataFrame(data)\n",
    "\n",
    "# access the Name column\n",
    "\n",
    "name=df[\"Name\"]\n",
    "name"
   ]
  },
  {
   "cell_type": "code",
   "execution_count": 22,
   "metadata": {},
   "outputs": [
    {
     "data": {
      "text/html": [
       "<div>\n",
       "<style scoped>\n",
       "    .dataframe tbody tr th:only-of-type {\n",
       "        vertical-align: middle;\n",
       "    }\n",
       "\n",
       "    .dataframe tbody tr th {\n",
       "        vertical-align: top;\n",
       "    }\n",
       "\n",
       "    .dataframe thead th {\n",
       "        text-align: right;\n",
       "    }\n",
       "</style>\n",
       "<table border=\"1\" class=\"dataframe\">\n",
       "  <thead>\n",
       "    <tr style=\"text-align: right;\">\n",
       "      <th></th>\n",
       "      <th>Name</th>\n",
       "      <th>City</th>\n",
       "    </tr>\n",
       "  </thead>\n",
       "  <tbody>\n",
       "    <tr>\n",
       "      <th>0</th>\n",
       "      <td>Alice</td>\n",
       "      <td>New York</td>\n",
       "    </tr>\n",
       "    <tr>\n",
       "      <th>1</th>\n",
       "      <td>Bob</td>\n",
       "      <td>Paris</td>\n",
       "    </tr>\n",
       "    <tr>\n",
       "      <th>2</th>\n",
       "      <td>Charlie</td>\n",
       "      <td>London</td>\n",
       "    </tr>\n",
       "    <tr>\n",
       "      <th>3</th>\n",
       "      <td>David</td>\n",
       "      <td>Tokyo</td>\n",
       "    </tr>\n",
       "    <tr>\n",
       "      <th>4</th>\n",
       "      <td>Eve</td>\n",
       "      <td>Sydney</td>\n",
       "    </tr>\n",
       "  </tbody>\n",
       "</table>\n",
       "</div>"
      ],
      "text/plain": [
       "      Name      City\n",
       "0    Alice  New York\n",
       "1      Bob     Paris\n",
       "2  Charlie    London\n",
       "3    David     Tokyo\n",
       "4      Eve    Sydney"
      ]
     },
     "execution_count": 22,
     "metadata": {},
     "output_type": "execute_result"
    }
   ],
   "source": [
    "# access multiple columns\n",
    "name_city= df[['Name','City']]\n",
    "name_city"
   ]
  },
  {
   "cell_type": "code",
   "execution_count": 23,
   "metadata": {},
   "outputs": [
    {
     "data": {
      "text/plain": [
       "Name             Charlie\n",
       "Age                   18\n",
       "City              London\n",
       "Qualification        MBA\n",
       "Name: 2, dtype: object"
      ]
     },
     "execution_count": 23,
     "metadata": {},
     "output_type": "execute_result"
    }
   ],
   "source": [
    "# access a single row\n",
    "single_row = df.loc[2]\n",
    "single_row"
   ]
  },
  {
   "cell_type": "code",
   "execution_count": 24,
   "metadata": {},
   "outputs": [
    {
     "data": {
      "text/plain": [
       "'Bob'"
      ]
     },
     "execution_count": 24,
     "metadata": {},
     "output_type": "execute_result"
    }
   ],
   "source": [
    "# access second row of 'Name' column\n",
    "specific_value = df.loc[1, 'Name']\n",
    "specific_value"
   ]
  },
  {
   "cell_type": "code",
   "execution_count": 25,
   "metadata": {},
   "outputs": [
    {
     "data": {
      "text/html": [
       "<div>\n",
       "<style scoped>\n",
       "    .dataframe tbody tr th:only-of-type {\n",
       "        vertical-align: middle;\n",
       "    }\n",
       "\n",
       "    .dataframe tbody tr th {\n",
       "        vertical-align: top;\n",
       "    }\n",
       "\n",
       "    .dataframe thead th {\n",
       "        text-align: right;\n",
       "    }\n",
       "</style>\n",
       "<table border=\"1\" class=\"dataframe\">\n",
       "  <thead>\n",
       "    <tr style=\"text-align: right;\">\n",
       "      <th></th>\n",
       "      <th>Name</th>\n",
       "      <th>Age</th>\n",
       "      <th>City</th>\n",
       "      <th>Qualification</th>\n",
       "    </tr>\n",
       "  </thead>\n",
       "  <tbody>\n",
       "    <tr>\n",
       "      <th>1</th>\n",
       "      <td>Bob</td>\n",
       "      <td>32</td>\n",
       "      <td>Paris</td>\n",
       "      <td>BBA</td>\n",
       "    </tr>\n",
       "    <tr>\n",
       "      <th>2</th>\n",
       "      <td>Charlie</td>\n",
       "      <td>18</td>\n",
       "      <td>London</td>\n",
       "      <td>MBA</td>\n",
       "    </tr>\n",
       "    <tr>\n",
       "      <th>3</th>\n",
       "      <td>David</td>\n",
       "      <td>47</td>\n",
       "      <td>Tokyo</td>\n",
       "      <td>BSc</td>\n",
       "    </tr>\n",
       "  </tbody>\n",
       "</table>\n",
       "</div>"
      ],
      "text/plain": [
       "      Name  Age    City Qualification\n",
       "1      Bob   32   Paris           BBA\n",
       "2  Charlie   18  London           MBA\n",
       "3    David   47   Tokyo           BSc"
      ]
     },
     "execution_count": 25,
     "metadata": {},
     "output_type": "execute_result"
    }
   ],
   "source": [
    "# slice rows from index 1 to 3\n",
    "\n",
    "slice_rows = df.loc[1:3]\n",
    "slice_rows"
   ]
  },
  {
   "cell_type": "code",
   "execution_count": 26,
   "metadata": {},
   "outputs": [
    {
     "data": {
      "text/html": [
       "<div>\n",
       "<style scoped>\n",
       "    .dataframe tbody tr th:only-of-type {\n",
       "        vertical-align: middle;\n",
       "    }\n",
       "\n",
       "    .dataframe tbody tr th {\n",
       "        vertical-align: top;\n",
       "    }\n",
       "\n",
       "    .dataframe thead th {\n",
       "        text-align: right;\n",
       "    }\n",
       "</style>\n",
       "<table border=\"1\" class=\"dataframe\">\n",
       "  <thead>\n",
       "    <tr style=\"text-align: right;\">\n",
       "      <th></th>\n",
       "      <th>Name</th>\n",
       "      <th>Age</th>\n",
       "      <th>City</th>\n",
       "    </tr>\n",
       "  </thead>\n",
       "  <tbody>\n",
       "    <tr>\n",
       "      <th>0</th>\n",
       "      <td>Alice</td>\n",
       "      <td>25</td>\n",
       "      <td>New York</td>\n",
       "    </tr>\n",
       "    <tr>\n",
       "      <th>1</th>\n",
       "      <td>Bob</td>\n",
       "      <td>32</td>\n",
       "      <td>Paris</td>\n",
       "    </tr>\n",
       "    <tr>\n",
       "      <th>2</th>\n",
       "      <td>Charlie</td>\n",
       "      <td>18</td>\n",
       "      <td>London</td>\n",
       "    </tr>\n",
       "    <tr>\n",
       "      <th>3</th>\n",
       "      <td>David</td>\n",
       "      <td>47</td>\n",
       "      <td>Tokyo</td>\n",
       "    </tr>\n",
       "    <tr>\n",
       "      <th>4</th>\n",
       "      <td>Eve</td>\n",
       "      <td>33</td>\n",
       "      <td>Sydney</td>\n",
       "    </tr>\n",
       "  </tbody>\n",
       "</table>\n",
       "</div>"
      ],
      "text/plain": [
       "      Name  Age      City\n",
       "0    Alice   25  New York\n",
       "1      Bob   32     Paris\n",
       "2  Charlie   18    London\n",
       "3    David   47     Tokyo\n",
       "4      Eve   33    Sydney"
      ]
     },
     "execution_count": 26,
     "metadata": {},
     "output_type": "execute_result"
    }
   ],
   "source": [
    "# slicing columns from 'Name' to City'\n",
    "slice_columns = df.loc[:, 'Name':'City']\n",
    "slice_columns"
   ]
  },
  {
   "cell_type": "markdown",
   "metadata": {},
   "source": [
    "### <font color='blue'>filter the data.</font>\n",
    "\n",
    "\n",
    "\n",
    "\n",
    "\n",
    "\n",
    "- Here we can use **loc[] method or filter() Method**"
   ]
  },
  {
   "cell_type": "code",
   "execution_count": 27,
   "metadata": {},
   "outputs": [
    {
     "name": "stdout",
     "output_type": "stream",
     "text": [
      "    ID  Score  wik\n",
      "2  103     40    3\n",
      "3  104     50    4\n",
      "2    40\n",
      "3    50\n",
      "Name: Score, dtype: int64\n",
      "    ID  Score  wik\n",
      "1  102     30    2\n",
      "2  103     40    3\n",
      "3  104     50    4\n"
     ]
    }
   ],
   "source": [
    "import pandas as pd\n",
    "\n",
    "data={\n",
    "    \"ID\":[101,102,103,104],\n",
    "    \"Score\":[20,30,40,50],\n",
    "    \"wik\":[1,2,3,4] }\n",
    "\n",
    "df = pd.DataFrame(data)\n",
    "\n",
    " \n",
    "#FilteringData where the value of Score is greater than 30.\n",
    "\n",
    "filtered = df.loc[df[\"Score\"] > 30]\n",
    "print(filtered)\n",
    "\n",
    "#Filtering Data only Score columns using\n",
    "score =df.loc[df[\"Score\"]>30,\"Score\"]\n",
    "print(score)\n",
    "\n",
    "\n",
    "wik= df[df.wik >= 2]\n",
    "print(wik)"
   ]
  },
  {
   "cell_type": "code",
   "execution_count": 28,
   "metadata": {},
   "outputs": [
    {
     "name": "stdout",
     "output_type": "stream",
     "text": [
      "   Salary Department\n",
      "0   50000         HR\n",
      "1   60000  Marketing\n",
      "2   55000  Marketing\n",
      "3   70000         IT\n"
     ]
    }
   ],
   "source": [
    "import pandas as pd\n",
    "\n",
    "data={\"name\":[\"sachin\",\"arjun\",\"tejas\",\"sai\"],\n",
    "      \"Department\": ['HR', 'Marketing', 'Marketing', 'IT'],\n",
    "        \"Salary\": [50000, 60000, 55000, 70000] }\n",
    "\n",
    "df=pd.DataFrame(data)\n",
    "\n",
    "# use the filter() method to select columns based on a condition\n",
    "columns=df.filter(items=[\"Salary\",\"Department\"])\n",
    "print(columns)"
   ]
  },
  {
   "cell_type": "code",
   "execution_count": 29,
   "metadata": {},
   "outputs": [
    {
     "data": {
      "text/html": [
       "<div>\n",
       "<style scoped>\n",
       "    .dataframe tbody tr th:only-of-type {\n",
       "        vertical-align: middle;\n",
       "    }\n",
       "\n",
       "    .dataframe tbody tr th {\n",
       "        vertical-align: top;\n",
       "    }\n",
       "\n",
       "    .dataframe thead th {\n",
       "        text-align: right;\n",
       "    }\n",
       "</style>\n",
       "<table border=\"1\" class=\"dataframe\">\n",
       "  <thead>\n",
       "    <tr style=\"text-align: right;\">\n",
       "      <th></th>\n",
       "      <th>name</th>\n",
       "      <th>Department</th>\n",
       "    </tr>\n",
       "  </thead>\n",
       "  <tbody>\n",
       "    <tr>\n",
       "      <th>0</th>\n",
       "      <td>sachin</td>\n",
       "      <td>HR</td>\n",
       "    </tr>\n",
       "    <tr>\n",
       "      <th>1</th>\n",
       "      <td>arjun</td>\n",
       "      <td>Marketing</td>\n",
       "    </tr>\n",
       "    <tr>\n",
       "      <th>2</th>\n",
       "      <td>tejas</td>\n",
       "      <td>Marketing</td>\n",
       "    </tr>\n",
       "    <tr>\n",
       "      <th>3</th>\n",
       "      <td>sai</td>\n",
       "      <td>IT</td>\n",
       "    </tr>\n",
       "  </tbody>\n",
       "</table>\n",
       "</div>"
      ],
      "text/plain": [
       "     name Department\n",
       "0  sachin         HR\n",
       "1   arjun  Marketing\n",
       "2   tejas  Marketing\n",
       "3     sai         IT"
      ]
     },
     "execution_count": 29,
     "metadata": {},
     "output_type": "execute_result"
    }
   ],
   "source": [
    "col =df[[\"name\",\"Department\"]]\n",
    "col"
   ]
  },
  {
   "cell_type": "code",
   "execution_count": 30,
   "metadata": {},
   "outputs": [
    {
     "data": {
      "text/html": [
       "<div>\n",
       "<style scoped>\n",
       "    .dataframe tbody tr th:only-of-type {\n",
       "        vertical-align: middle;\n",
       "    }\n",
       "\n",
       "    .dataframe tbody tr th {\n",
       "        vertical-align: top;\n",
       "    }\n",
       "\n",
       "    .dataframe thead th {\n",
       "        text-align: right;\n",
       "    }\n",
       "</style>\n",
       "<table border=\"1\" class=\"dataframe\">\n",
       "  <thead>\n",
       "    <tr style=\"text-align: right;\">\n",
       "      <th></th>\n",
       "      <th>name</th>\n",
       "      <th>Department</th>\n",
       "      <th>Salary</th>\n",
       "    </tr>\n",
       "  </thead>\n",
       "  <tbody>\n",
       "    <tr>\n",
       "      <th>1</th>\n",
       "      <td>arjun</td>\n",
       "      <td>Marketing</td>\n",
       "      <td>60000</td>\n",
       "    </tr>\n",
       "    <tr>\n",
       "      <th>3</th>\n",
       "      <td>sai</td>\n",
       "      <td>IT</td>\n",
       "      <td>70000</td>\n",
       "    </tr>\n",
       "  </tbody>\n",
       "</table>\n",
       "</div>"
      ],
      "text/plain": [
       "    name Department  Salary\n",
       "1  arjun  Marketing   60000\n",
       "3    sai         IT   70000"
      ]
     },
     "execution_count": 30,
     "metadata": {},
     "output_type": "execute_result"
    }
   ],
   "source": [
    "# use logical operators to filter\n",
    "\n",
    "salary =df[df.Salary > 55000]\n",
    "salary"
   ]
  },
  {
   "cell_type": "markdown",
   "metadata": {},
   "source": [
    "### <font color='blue'>Sorting:</font>\n",
    "\n",
    "\n",
    "- Sorting is a fundamental operation in data manipulation and analysis that involves arranging data in a specific order.\n",
    "\n",
    "\n",
    "\n",
    "- **sort_values()** function to sort a DataFrame\n"
   ]
  },
  {
   "cell_type": "code",
   "execution_count": 31,
   "metadata": {},
   "outputs": [
    {
     "name": "stdout",
     "output_type": "stream",
     "text": [
      "       Name  Age  Score\n",
      "1     arjun   22     90\n",
      "2  prasadha   25     75\n",
      "0    sachin   28     85\n",
      "       Name  Age  Score\n",
      "0    sachin   28     85\n",
      "2  prasadha   25     75\n",
      "1     arjun   22     90\n"
     ]
    }
   ],
   "source": [
    "#sort DataFrame by Age in ascending order\n",
    "\n",
    "import pandas as pd\n",
    "\n",
    "data = {'Name': ['sachin', 'arjun', 'prasadha'],\n",
    "        'Age': [28, 22, 25],\n",
    "       'Score': [85, 90, 75]}\n",
    "df = pd.DataFrame(data)\n",
    "\n",
    "sort=df.sort_values(by=\"Age\")\n",
    "print(sort)\n",
    "\n",
    "\n",
    "# To sort values in descending order, we use the ascending parameter with False\n",
    "\n",
    "sorted_df = df.sort_values(by='Age', ascending=False)\n",
    "print(sorted_df)\n"
   ]
  },
  {
   "cell_type": "code",
   "execution_count": 32,
   "metadata": {},
   "outputs": [
    {
     "data": {
      "text/html": [
       "<div>\n",
       "<style scoped>\n",
       "    .dataframe tbody tr th:only-of-type {\n",
       "        vertical-align: middle;\n",
       "    }\n",
       "\n",
       "    .dataframe tbody tr th {\n",
       "        vertical-align: top;\n",
       "    }\n",
       "\n",
       "    .dataframe thead th {\n",
       "        text-align: right;\n",
       "    }\n",
       "</style>\n",
       "<table border=\"1\" class=\"dataframe\">\n",
       "  <thead>\n",
       "    <tr style=\"text-align: right;\">\n",
       "      <th></th>\n",
       "      <th>Name</th>\n",
       "      <th>Age</th>\n",
       "      <th>Score</th>\n",
       "    </tr>\n",
       "  </thead>\n",
       "  <tbody>\n",
       "    <tr>\n",
       "      <th>1</th>\n",
       "      <td>arjun</td>\n",
       "      <td>22</td>\n",
       "      <td>90</td>\n",
       "    </tr>\n",
       "    <tr>\n",
       "      <th>2</th>\n",
       "      <td>prasadha</td>\n",
       "      <td>25</td>\n",
       "      <td>75</td>\n",
       "    </tr>\n",
       "    <tr>\n",
       "      <th>0</th>\n",
       "      <td>sachin</td>\n",
       "      <td>28</td>\n",
       "      <td>85</td>\n",
       "    </tr>\n",
       "  </tbody>\n",
       "</table>\n",
       "</div>"
      ],
      "text/plain": [
       "       Name  Age  Score\n",
       "1     arjun   22     90\n",
       "2  prasadha   25     75\n",
       "0    sachin   28     85"
      ]
     },
     "execution_count": 32,
     "metadata": {},
     "output_type": "execute_result"
    }
   ],
   "source": [
    "# Sort DataFrame by 'Age' and then by 'Score' (Both in ascending order)\n",
    "df1 = df.sort_values(by=['Age', 'Score'])\n",
    "df1"
   ]
  },
  {
   "cell_type": "code",
   "execution_count": 33,
   "metadata": {},
   "outputs": [
    {
     "data": {
      "text/html": [
       "<div>\n",
       "<style scoped>\n",
       "    .dataframe tbody tr th:only-of-type {\n",
       "        vertical-align: middle;\n",
       "    }\n",
       "\n",
       "    .dataframe tbody tr th {\n",
       "        vertical-align: top;\n",
       "    }\n",
       "\n",
       "    .dataframe thead th {\n",
       "        text-align: right;\n",
       "    }\n",
       "</style>\n",
       "<table border=\"1\" class=\"dataframe\">\n",
       "  <thead>\n",
       "    <tr style=\"text-align: right;\">\n",
       "      <th></th>\n",
       "      <th>Name</th>\n",
       "      <th>Age</th>\n",
       "      <th>Score</th>\n",
       "    </tr>\n",
       "  </thead>\n",
       "  <tbody>\n",
       "    <tr>\n",
       "      <th>1</th>\n",
       "      <td>arjun</td>\n",
       "      <td>22</td>\n",
       "      <td>90</td>\n",
       "    </tr>\n",
       "    <tr>\n",
       "      <th>2</th>\n",
       "      <td>prasadha</td>\n",
       "      <td>25</td>\n",
       "      <td>75</td>\n",
       "    </tr>\n",
       "    <tr>\n",
       "      <th>0</th>\n",
       "      <td>sachin</td>\n",
       "      <td>28</td>\n",
       "      <td>85</td>\n",
       "    </tr>\n",
       "  </tbody>\n",
       "</table>\n",
       "</div>"
      ],
      "text/plain": [
       "       Name  Age  Score\n",
       "1     arjun   22     90\n",
       "2  prasadha   25     75\n",
       "0    sachin   28     85"
      ]
     },
     "execution_count": 33,
     "metadata": {},
     "output_type": "execute_result"
    }
   ],
   "source": [
    "#  Sort DataFrame by 'Age' in ascending order, and then by 'Score' in descending order\n",
    "df2= df.sort_values(by=['Age', 'Score'],ascending=[True, False])\n",
    "df2"
   ]
  },
  {
   "cell_type": "markdown",
   "metadata": {},
   "source": [
    "### <font color='blue'>Select.</font>\n",
    "\n",
    "\n",
    "- Pandas **select** refers to the process of extracting specific portions of data from a DataFrame.\n",
    "\n",
    "\n",
    "\n",
    "- The **query()** method in Pandas allows you to select data using a more SQL-like syntax.\n",
    "\n"
   ]
  },
  {
   "cell_type": "code",
   "execution_count": 34,
   "metadata": {},
   "outputs": [
    {
     "data": {
      "text/html": [
       "<div>\n",
       "<style scoped>\n",
       "    .dataframe tbody tr th:only-of-type {\n",
       "        vertical-align: middle;\n",
       "    }\n",
       "\n",
       "    .dataframe tbody tr th {\n",
       "        vertical-align: top;\n",
       "    }\n",
       "\n",
       "    .dataframe thead th {\n",
       "        text-align: right;\n",
       "    }\n",
       "</style>\n",
       "<table border=\"1\" class=\"dataframe\">\n",
       "  <thead>\n",
       "    <tr style=\"text-align: right;\">\n",
       "      <th></th>\n",
       "      <th>Name</th>\n",
       "      <th>Age</th>\n",
       "      <th>Score</th>\n",
       "    </tr>\n",
       "  </thead>\n",
       "  <tbody>\n",
       "    <tr>\n",
       "      <th>1</th>\n",
       "      <td>samskruthi</td>\n",
       "      <td>30</td>\n",
       "      <td>90</td>\n",
       "    </tr>\n",
       "    <tr>\n",
       "      <th>3</th>\n",
       "      <td>dharshan</td>\n",
       "      <td>28</td>\n",
       "      <td>80</td>\n",
       "    </tr>\n",
       "    <tr>\n",
       "      <th>4</th>\n",
       "      <td>thanmay</td>\n",
       "      <td>35</td>\n",
       "      <td>95</td>\n",
       "    </tr>\n",
       "  </tbody>\n",
       "</table>\n",
       "</div>"
      ],
      "text/plain": [
       "         Name  Age  Score\n",
       "1  samskruthi   30     90\n",
       "3    dharshan   28     80\n",
       "4     thanmay   35     95"
      ]
     },
     "execution_count": 34,
     "metadata": {},
     "output_type": "execute_result"
    }
   ],
   "source": [
    "# select the rows where the age is greater than 25\n",
    "\n",
    "import pandas as pd\n",
    "data = {\n",
    "    'Name': ['sachin', 'samskruthi', 'tejas', 'dharshan', 'thanmay'],\n",
    "    'Age': [25, 30, 22, 28, 35],\n",
    "    'Score': [85, 90, 75, 80, 95]\n",
    "}\n",
    "\n",
    "df = pd.DataFrame(data)\n",
    "\n",
    "\n",
    "age= df.query(\"Age >25 \")\n",
    "age"
   ]
  },
  {
   "cell_type": "markdown",
   "metadata": {},
   "source": [
    "\n",
    "### <font color='blue'>Pandas Multi-Index:</font>\n",
    "\n",
    "A MultiIndex in Pandas is a hierarchical indexing structure that allows us to represent and work with **higher-dimensional** data efficiently.\n",
    "\n",
    "A MultiIndex contains **multiple levels of indexes.** Each column in a MultiIndex is linked to one another through a parent/relationship."
   ]
  },
  {
   "cell_type": "code",
   "execution_count": 35,
   "metadata": {},
   "outputs": [
    {
     "name": "stdout",
     "output_type": "stream",
     "text": [
      "                              Population\n",
      "Continent     Country                   \n",
      "Asia          China           1439323776\n",
      "              Japan            126476461\n",
      "              India           1380004385\n",
      "              Nepal             29136808\n",
      "Europe        Germany           83783942\n",
      "              France            65273511\n",
      "              United Kingdom    67886011\n",
      "North America United States    331002651\n",
      "              Canada            37742154\n",
      "              Mexico           128932753\n"
     ]
    }
   ],
   "source": [
    "import pandas as pd\n",
    "\n",
    "data = {\n",
    "    \"Continent\": [\"North America\", \"Europe\", \"Asia\", \"North America\", \"Asia\", \"Europe\", \"North America\", \"Asia\", \"Europe\", \"Asia\"],\n",
    "    \"Country\": [\"United States\", \"Germany\", \"China\", \"Canada\", \"Japan\", \"France\", \"Mexico\", \"India\", \"United Kingdom\", \"Nepal\"],\n",
    "    \"Population\": [331002651, 83783942, 1439323776, 37742154, 126476461, 65273511, 128932753, 1380004385, 67886011, 29136808]\n",
    "}\n",
    "\n",
    "df=pd.DataFrame(data)\n",
    "# sort the data by continent\n",
    "df.sort_values(\"Continent\",inplace=True)\n",
    "\n",
    "# create a multiindex\n",
    "df.set_index([\"Continent\",\"Country\"],inplace=True)\n",
    "\n",
    "print(df)\n"
   ]
  },
  {
   "cell_type": "markdown",
   "metadata": {},
   "source": [
    "### <font color='blue'>pivot() and pivot_table():</font>\n",
    "\n",
    "\n",
    "- In Pandas reshaping data refers to the process of converting a DataFrame from one format to another for better data visualization and analysis.\n",
    "\n",
    "\n",
    "- Pandas provides multiple methods like **pivot(), pivot_table(), stack(), unstack() and melt()** to reshape data\n",
    "\n",
    "\n",
    "\n",
    "- **pivot():---** Does not allow aggregation of data and Only accepts a single-level index.\n",
    "\n",
    "\n",
    "\n",
    "- **pivot_table():---**  Allows aggregation (sum, mean, count, etc.) and  Accepts multi-level index for complex data\n",
    "\n",
    "\n",
    "- In Pandas, the **pivot()** function reshapes data based on column values."
   ]
  },
  {
   "cell_type": "code",
   "execution_count": 36,
   "metadata": {},
   "outputs": [
    {
     "name": "stdout",
     "output_type": "stream",
     "text": [
      "City        Los Angeles  New York\n",
      "Date                             \n",
      "2023-01-01           75        32\n",
      "2023-01-02           77        30\n"
     ]
    }
   ],
   "source": [
    "import pandas as pd\n",
    "\n",
    "data = {'Date': ['2023-01-01', '2023-01-01', '2023-01-02', '2023-01-02'],\n",
    "        'City': ['New York', 'Los Angeles', 'New York', 'Los Angeles'],\n",
    "        'Temperature': [32, 75, 30, 77]}\n",
    "df=pd.DataFrame(data)\n",
    "\n",
    "# Pivot the  DataFrame\n",
    "pivot = df.pivot(index=\"Date\",columns=\"City\",values=\"Temperature\")  \n",
    "print(pivot)\n",
    "\n",
    "# Index   :- the column to use as row labels\n",
    "# columns :- the column that will be reshaped as columns\n",
    "# values  :- the column(s) to use for the new DataFrame's values\n"
   ]
  },
  {
   "cell_type": "markdown",
   "metadata": {},
   "source": [
    "**pivot_table()** :- \n",
    "\n",
    "\n",
    "- It allows us to create a pivot table that aggregates and summarizes data based on the specified index, \n",
    "  columns, and aggregation functions.\n",
    "\n",
    "- **pd.pivot_table(dataname, Index, Columns, Values, aggfunc) :-**  \n",
    "\n",
    "\n",
    "-  **Index**:-  the column to use as row labels\n",
    "\n",
    "\n",
    "- **columns**: the column that will be reshaped as columns\n",
    "\n",
    "\n",
    "- **Value**:- the column(s) to use for the new DataFrame's values\n",
    "\n",
    "\n",
    "- **aggfunc**:-   the function to use for aggregation, defaulting to 'mean'\n",
    "    "
   ]
  },
  {
   "cell_type": "code",
   "execution_count": 37,
   "metadata": {},
   "outputs": [
    {
     "data": {
      "text/html": [
       "<div>\n",
       "<style scoped>\n",
       "    .dataframe tbody tr th:only-of-type {\n",
       "        vertical-align: middle;\n",
       "    }\n",
       "\n",
       "    .dataframe tbody tr th {\n",
       "        vertical-align: top;\n",
       "    }\n",
       "\n",
       "    .dataframe thead tr th {\n",
       "        text-align: left;\n",
       "    }\n",
       "\n",
       "    .dataframe thead tr:last-of-type th {\n",
       "        text-align: right;\n",
       "    }\n",
       "</style>\n",
       "<table border=\"1\" class=\"dataframe\">\n",
       "  <thead>\n",
       "    <tr>\n",
       "      <th></th>\n",
       "      <th colspan=\"2\" halign=\"left\">Humidity</th>\n",
       "      <th colspan=\"2\" halign=\"left\">Temperature</th>\n",
       "    </tr>\n",
       "    <tr>\n",
       "      <th>City</th>\n",
       "      <th>Los Angeles</th>\n",
       "      <th>New York</th>\n",
       "      <th>Los Angeles</th>\n",
       "      <th>New York</th>\n",
       "    </tr>\n",
       "    <tr>\n",
       "      <th>Category</th>\n",
       "      <th></th>\n",
       "      <th></th>\n",
       "      <th></th>\n",
       "      <th></th>\n",
       "    </tr>\n",
       "  </thead>\n",
       "  <tbody>\n",
       "    <tr>\n",
       "      <th>A</th>\n",
       "      <td>50.0</td>\n",
       "      <td>77.5</td>\n",
       "      <td>75</td>\n",
       "      <td>33</td>\n",
       "    </tr>\n",
       "    <tr>\n",
       "      <th>B</th>\n",
       "      <td>48.0</td>\n",
       "      <td>85.0</td>\n",
       "      <td>78</td>\n",
       "      <td>30</td>\n",
       "    </tr>\n",
       "  </tbody>\n",
       "</table>\n",
       "</div>"
      ],
      "text/plain": [
       "            Humidity          Temperature         \n",
       "City     Los Angeles New York Los Angeles New York\n",
       "Category                                          \n",
       "A               50.0     77.5          75       33\n",
       "B               48.0     85.0          78       30"
      ]
     },
     "execution_count": 37,
     "metadata": {},
     "output_type": "execute_result"
    }
   ],
   "source": [
    "import pandas as pd\n",
    "import numpy as np\n",
    "\n",
    "data = {\n",
    "    'Category': ['A', 'A', 'B', 'B', 'A'],\n",
    "    'City': ['New York', 'Los Angeles', 'New York', 'Los Angeles', 'New York'],\n",
    "    'Temperature': [32, 75, 30, 78, 34],\n",
    "    'Humidity': [80, 50, 85, 48, 75] }\n",
    "\n",
    "\n",
    "df=pd.DataFrame(data)\n",
    "\n",
    "pivot = df.pivot_table(index='Category', values=['Temperature','Humidity'], columns='City', aggfunc='mean')\n",
    "pivot"
   ]
  },
  {
   "cell_type": "markdown",
   "metadata": {},
   "source": [
    "**Handle Missing Values With pivot_table()**"
   ]
  },
  {
   "cell_type": "code",
   "execution_count": 38,
   "metadata": {},
   "outputs": [
    {
     "name": "stdout",
     "output_type": "stream",
     "text": [
      "\n",
      "Default Pivot Table\n",
      " City        Los Angeles  New York\n",
      "Date                             \n",
      "2023-01-01         75.0      32.0\n",
      "2023-01-02         77.0      30.0\n",
      "2023-01-03         76.0       NaN\n",
      "\n",
      "Pivot Table with dropna=False:\n",
      " City        Chicago  Los Angeles  New York\n",
      "Date                                      \n",
      "2023-01-01      NaN         75.0      32.0\n",
      "2023-01-02      NaN         77.0      30.0\n",
      "2023-01-03      NaN         76.0       NaN\n",
      "\n",
      "Pivot Table with fill_value=0:\n",
      " City        Chicago  Los Angeles  New York\n",
      "Date                                      \n",
      "2023-01-01        0           75        32\n",
      "2023-01-02        0           77        30\n",
      "2023-01-03        0           76         0\n"
     ]
    }
   ],
   "source": [
    "import pandas as pd\n",
    "import numpy as np\n",
    "\n",
    "data = {'Date': ['2023-01-01', '2023-01-01', '2023-01-02', '2023-01-02', '2023-01-03', '2023-01-03', '2023-01-03'],\n",
    "        'City': ['New York', 'Los Angeles', 'New York', 'Los Angeles', 'New York', 'Los Angeles', 'Chicago'],\n",
    "        'Temperature': [32, 75, 30, 77, np.nan, 76, np.nan]}\n",
    "df = pd.DataFrame(data)\n",
    "\n",
    "# create a pivot table\n",
    "pivot_df = df.pivot_table(index='Date', columns='City', values='Temperature')\n",
    "\n",
    "print(\"\\nDefault Pivot Table\\n\", pivot_df)\n",
    "\n",
    "# create a pivot table with dropna=True\n",
    "pivot_df_dropna = df.pivot_table(index='Date', columns='City', values='Temperature', dropna=False)\n",
    "\n",
    "print(\"\\nPivot Table with dropna=False:\\n\", pivot_df_dropna)\n",
    "\n",
    "# create a pivot table with fill_value=0\n",
    "pivot_df_dropna = df.pivot_table(index='Date', columns='City', values='Temperature',dropna=False, fill_value=0)\n",
    "\n",
    "print(\"\\nPivot Table with fill_value=0:\\n\", pivot_df_dropna)\n"
   ]
  },
  {
   "cell_type": "markdown",
   "metadata": {},
   "source": [
    "### <font color='blue'>Duplicate Values:</font>"
   ]
  },
  {
   "cell_type": "code",
   "execution_count": 39,
   "metadata": {},
   "outputs": [
    {
     "name": "stdout",
     "output_type": "stream",
     "text": [
      "0    False\n",
      "1    False\n",
      "2    False\n",
      "3     True\n",
      "4    False\n",
      "5     True\n",
      "dtype: bool\n"
     ]
    }
   ],
   "source": [
    "# duplicated() method returns True if a row is duplicated and returns False otherwise.\n",
    "\n",
    "data = {\n",
    "    'Name': ['sachin', 'tejas', 'Johnny', 'tejas', 'sachin','tejas'],\n",
    "    'Age': [28, 24, 28, 24, 19,24],\n",
    "    'City': ['New York', 'Los Angeles', 'New York', 'Los Angeles', 'Chicago','Los Angeles'] }\n",
    "df=pd.DataFrame(data)\n",
    "\n",
    "# check for duplicate entries\n",
    "print(df.duplicated())"
   ]
  },
  {
   "cell_type": "code",
   "execution_count": 40,
   "metadata": {},
   "outputs": [
    {
     "name": "stdout",
     "output_type": "stream",
     "text": [
      "0    False\n",
      "1    False\n",
      "2    False\n",
      "3     True\n",
      "4    False\n",
      "5     True\n",
      "dtype: bool\n"
     ]
    }
   ],
   "source": [
    "# Find Duplicates Based on Columns\n",
    "\n",
    "print(df.duplicated(subset=['Name', 'Age']))"
   ]
  },
  {
   "cell_type": "code",
   "execution_count": 41,
   "metadata": {},
   "outputs": [
    {
     "name": "stdout",
     "output_type": "stream",
     "text": [
      "     Name  Age         City\n",
      "0  sachin   28     New York\n",
      "1   tejas   24  Los Angeles\n",
      "2  Johnny   28     New York\n",
      "4  sachin   19      Chicago\n"
     ]
    }
   ],
   "source": [
    "# Remove Duplicate Entries.\n",
    "\n",
    "print(df.drop_duplicates())"
   ]
  },
  {
   "cell_type": "code",
   "execution_count": 42,
   "metadata": {},
   "outputs": [
    {
     "name": "stdout",
     "output_type": "stream",
     "text": [
      "     Name  Age         City\n",
      "0  sachin   28     New York\n",
      "2  Johnny   28     New York\n",
      "4  sachin   19      Chicago\n",
      "5   tejas   24  Los Angeles\n"
     ]
    }
   ],
   "source": [
    "# remove duplicates, keep last entries\n",
    "a =df.drop_duplicates(keep='last')\n",
    "print(a)"
   ]
  },
  {
   "cell_type": "markdown",
   "metadata": {},
   "source": [
    "###  <font color='blue'>Convert  Categorical data To Numeric Data:</font>\n",
    "\n",
    "\n",
    "\n",
    "- **Factosize** method they will take default values (0,1,2,3)\n",
    "\n",
    "\n",
    "\n",
    "\n",
    "\n",
    "- **replace()** method we can give our own"
   ]
  },
  {
   "cell_type": "code",
   "execution_count": 43,
   "metadata": {},
   "outputs": [
    {
     "name": "stdout",
     "output_type": "stream",
     "text": [
      "        Education  Education_numeric\n",
      "0  Under-Graduate                  0\n",
      "1   Post-Graduate                  1\n",
      "2  Under-Graduate                  0\n",
      "3   Post-Graduate                  1\n",
      "   Education  Education_numeric\n",
      "0          0                  0\n",
      "1          1                  1\n",
      "2          0                  0\n",
      "3          1                  1\n"
     ]
    }
   ],
   "source": [
    "# Factorize Method\n",
    "\n",
    "import pandas as pd\n",
    "\n",
    "data= {\"Education\":[\"Under-Graduate\",\"Post-Graduate\",\"Under-Graduate\",\"Post-Graduate\"]}\n",
    "df=pd.DataFrame(data)\n",
    "\n",
    "\n",
    "# Convert categorical to numeric using factorize\n",
    "df['Education_numeric'], Education = pd.factorize(df['Education'])\n",
    "print(df)\n",
    "\n",
    "\n",
    "# Replace() method:\n",
    "\n",
    "df['Education'].replace(['Under-Graduate', 'Post-Graduate'],[0, 1],inplace=True)\n",
    "print(df)\n"
   ]
  },
  {
   "cell_type": "markdown",
   "metadata": {},
   "source": [
    "###  <font color='blue'>Convert Numeric data To catergorical Data:</font>\n",
    "\n",
    "\n",
    "\n",
    "\n",
    "\n"
   ]
  },
  {
   "cell_type": "code",
   "execution_count": 44,
   "metadata": {},
   "outputs": [
    {
     "name": "stdout",
     "output_type": "stream",
     "text": [
      "        Education\n",
      "0  Under-Graduate\n",
      "1   Post-Graduate\n",
      "2  Under-Graduate\n",
      "3   Post-Graduate\n",
      "['Medium', 'Large', 'Small', 'Medium', 'Large', 'Medium', 'Small', 'Large']\n"
     ]
    }
   ],
   "source": [
    "import pandas as pd\n",
    "\n",
    "data= {\"Education\":[1,2,1,2]}\n",
    "df=pd.DataFrame(data)\n",
    "\n",
    "\n",
    "# Method 1 : Replace() method:\n",
    "\n",
    "df['Education'].replace([1,2],[\"Under-Graduate\", \"Post-Graduate\"],inplace=True)\n",
    "print(df)\n",
    "\n",
    "\n",
    "# method 2:\n",
    "\n",
    "# Example numeric data\n",
    "numeric_data = [10, 25, 5, 18, 30, 15, 7, 21]\n",
    "\n",
    "# Define a function to map numeric values to categories\n",
    "def map_to_category(value):\n",
    "    if value < 10:\n",
    "        return 'Small'\n",
    "    elif 10 <= value < 20:\n",
    "        return 'Medium'\n",
    "    else:\n",
    "        return 'Large'\n",
    "\n",
    "# Apply the function to each value\n",
    "categories = [map_to_category(value) for value in numeric_data]\n",
    "\n",
    "print(categories)\n",
    "\n",
    "\n"
   ]
  },
  {
   "cell_type": "markdown",
   "metadata": {},
   "source": [
    "### <font color='blue'>Merging AND Concatenating DataFrames:</font>\n",
    "\n",
    "**Concatenating**\n",
    "\n",
    "\n",
    "- With the help of this Concatenating function we cam combine two dataframes either Horizontal OR Vertical without using Colums"
   ]
  },
  {
   "cell_type": "code",
   "execution_count": 45,
   "metadata": {},
   "outputs": [
    {
     "name": "stdout",
     "output_type": "stream",
     "text": [
      "    id      Name   id        Name\n",
      "0  A01    sachin  B05  samskruthi\n",
      "1  A02     tejas  B06       gagan\n",
      "2  A03   thanmay  B07        ravi\n",
      "3  A04  Dharshan  B08       arjun\n"
     ]
    }
   ],
   "source": [
    "import pandas as pd\n",
    "\n",
    "df1 = pd.DataFrame({'id': ['A01', 'A02', 'A03', 'A04'],\n",
    "                    'Name': ['sachin', 'tejas', 'thanmay', 'Dharshan']})\n",
    " \n",
    "\n",
    "df2 = pd.DataFrame({'id': ['B05', 'B06', 'B07', 'B08'],\n",
    "                    'Name': ['samskruthi', 'gagan', 'ravi', 'arjun']})\n",
    "\n",
    " \n",
    "concat= pd.concat([df1,df2],axis=1)                    # axis = 1 -----------------> Horizontal\n",
    "print(concat)                                          # axis = 0 -----------------> Vertical\n"
   ]
  },
  {
   "cell_type": "markdown",
   "metadata": {},
   "source": [
    "**Merging**\n",
    "\n",
    "- The merge() operation is a method used to combine two dataframes based on one or more common columns, also called keys."
   ]
  },
  {
   "cell_type": "code",
   "execution_count": 46,
   "metadata": {},
   "outputs": [
    {
     "name": "stdout",
     "output_type": "stream",
     "text": [
      "   employee_id      name  age   department\n",
      "0            1    sachin   25           HR\n",
      "1            2     tejas   30  Engineering\n",
      "2            3   thanmay   35    Marketing\n",
      "3            4  Dharshan   40      Finance\n"
     ]
    }
   ],
   "source": [
    "import pandas as pd\n",
    "\n",
    "# Sample DataFrames\n",
    "df1= pd.DataFrame({\n",
    "    'employee_id': [1, 2, 3, 4],\n",
    "    'name': ['sachin', 'tejas', 'thanmay', 'Dharshan'],\n",
    "    'age': [25, 30, 35, 40] })\n",
    "\n",
    "df2 = pd.DataFrame({\n",
    "    'employee_id': [1, 2, 3, 4],\n",
    "    'department': ['HR', 'Engineering', 'Marketing', 'Finance'] })\n",
    "\n",
    "\n",
    "# Merge based on 'employee_id'\n",
    "merge = pd.merge(df1,df2, on='employee_id' )\n",
    "print(merge)"
   ]
  },
  {
   "cell_type": "markdown",
   "metadata": {},
   "source": [
    "### <font color='blue'>Describe:</font>\n",
    "\n",
    "\n"
   ]
  },
  {
   "cell_type": "code",
   "execution_count": 47,
   "metadata": {},
   "outputs": [
    {
     "name": "stdout",
     "output_type": "stream",
     "text": [
      "count     5.000000\n",
      "mean     35.000000\n",
      "std       7.905694\n",
      "min      25.000000\n",
      "25%      30.000000\n",
      "50%      35.000000\n",
      "75%      40.000000\n",
      "max      45.000000\n",
      "Name: Age, dtype: float64\n"
     ]
    },
    {
     "data": {
      "text/html": [
       "<div>\n",
       "<style scoped>\n",
       "    .dataframe tbody tr th:only-of-type {\n",
       "        vertical-align: middle;\n",
       "    }\n",
       "\n",
       "    .dataframe tbody tr th {\n",
       "        vertical-align: top;\n",
       "    }\n",
       "\n",
       "    .dataframe thead th {\n",
       "        text-align: right;\n",
       "    }\n",
       "</style>\n",
       "<table border=\"1\" class=\"dataframe\">\n",
       "  <thead>\n",
       "    <tr style=\"text-align: right;\">\n",
       "      <th></th>\n",
       "      <th>Age</th>\n",
       "      <th>Weight</th>\n",
       "    </tr>\n",
       "  </thead>\n",
       "  <tbody>\n",
       "    <tr>\n",
       "      <th>count</th>\n",
       "      <td>5.000000</td>\n",
       "      <td>5.000000</td>\n",
       "    </tr>\n",
       "    <tr>\n",
       "      <th>mean</th>\n",
       "      <td>35.000000</td>\n",
       "      <td>47.200000</td>\n",
       "    </tr>\n",
       "    <tr>\n",
       "      <th>std</th>\n",
       "      <td>7.905694</td>\n",
       "      <td>1.923538</td>\n",
       "    </tr>\n",
       "    <tr>\n",
       "      <th>min</th>\n",
       "      <td>25.000000</td>\n",
       "      <td>45.000000</td>\n",
       "    </tr>\n",
       "    <tr>\n",
       "      <th>25%</th>\n",
       "      <td>30.000000</td>\n",
       "      <td>46.000000</td>\n",
       "    </tr>\n",
       "    <tr>\n",
       "      <th>50%</th>\n",
       "      <td>35.000000</td>\n",
       "      <td>47.000000</td>\n",
       "    </tr>\n",
       "    <tr>\n",
       "      <th>75%</th>\n",
       "      <td>40.000000</td>\n",
       "      <td>48.000000</td>\n",
       "    </tr>\n",
       "    <tr>\n",
       "      <th>max</th>\n",
       "      <td>45.000000</td>\n",
       "      <td>50.000000</td>\n",
       "    </tr>\n",
       "  </tbody>\n",
       "</table>\n",
       "</div>"
      ],
      "text/plain": [
       "             Age     Weight\n",
       "count   5.000000   5.000000\n",
       "mean   35.000000  47.200000\n",
       "std     7.905694   1.923538\n",
       "min    25.000000  45.000000\n",
       "25%    30.000000  46.000000\n",
       "50%    35.000000  47.000000\n",
       "75%    40.000000  48.000000\n",
       "max    45.000000  50.000000"
      ]
     },
     "execution_count": 47,
     "metadata": {},
     "output_type": "execute_result"
    }
   ],
   "source": [
    "import pandas as pd\n",
    "data = {\n",
    "    'Name': ['Alice', 'Bob', 'Charlie', 'David', 'Eve'],\n",
    "    'Age': [25, 30, 35, 40, 45],\n",
    "    'Weight': [45, 46, 47, 48, 50]\n",
    "}\n",
    "\n",
    "df=pd.DataFrame(data)\n",
    "df1=df[\"Age\"].describe()\n",
    "print(df1)\n",
    "\n",
    "df2=df.describe()\n",
    "df2"
   ]
  },
  {
   "cell_type": "markdown",
   "metadata": {},
   "source": [
    "### <font color='blue'>Grouping AND Aggregating functions:</font>\n"
   ]
  },
  {
   "cell_type": "code",
   "execution_count": 48,
   "metadata": {},
   "outputs": [
    {
     "name": "stdout",
     "output_type": "stream",
     "text": [
      "   OrderDate  year  Month   Region  Manager   SalesMan          Item  Units  \\\n",
      "0 2018-01-06  2018      1     East   Martha  Alexander    Television     95   \n",
      "1 2018-01-23  2018      1  Central  Hermann     Shelli  Home Theater     50   \n",
      "2 2018-02-09  2018      2  Central  Hermann       Luis    Television     36   \n",
      "3 2018-02-26  2018      2  Central  Timothy      David    Cell Phone     27   \n",
      "4 2018-03-15  2018      3     West  Timothy    Stephen    Television     56   \n",
      "\n",
      "   Unit_price  Sale_amt  \n",
      "0      1198.0  113810.0  \n",
      "1       500.0   25000.0  \n",
      "2      1198.0   43128.0  \n",
      "3       225.0    6075.0  \n",
      "4      1198.0   67088.0  \n",
      "Region\n",
      "Central    1199\n",
      "East        691\n",
      "West        231\n",
      "Name: Units, dtype: int64\n",
      "                year     Month      Units  Unit_price      Sale_amt\n",
      "Region                                                             \n",
      "Central  2018.583333  6.541667  49.958333  645.458333  34573.729167\n",
      "East     2018.230769  6.769231  53.153846  442.038462  24692.846154\n",
      "West     2018.666667  6.333333  38.500000  624.333333  25816.500000\n"
     ]
    }
   ],
   "source": [
    "import pandas as pd\n",
    "\n",
    "data=pd.read_excel(\"E:/Z.Sachin/2.excel/sales data.xlsx\") \n",
    "print(data.head())\n",
    "\n",
    "#Region wise sum of Units.\n",
    "data1=data.groupby(\"Region\")[\"Units\"].sum()\n",
    "print(data1)\n",
    "\n",
    "\n",
    "data2=data.groupby(\"Region\").mean()\n",
    "print(data2)\n",
    "\n"
   ]
  },
  {
   "cell_type": "code",
   "execution_count": 49,
   "metadata": {},
   "outputs": [
    {
     "name": "stdout",
     "output_type": "stream",
     "text": [
      "['Martha' 'Hermann' 'Timothy' 'Douglas']\n"
     ]
    }
   ],
   "source": [
    "ds = data[\"Manager\"].unique()\n",
    "print(ds)"
   ]
  },
  {
   "cell_type": "code",
   "execution_count": 50,
   "metadata": {},
   "outputs": [
    {
     "name": "stdout",
     "output_type": "stream",
     "text": [
      "                      mean  max\n",
      "Region  Manager                \n",
      "Central Douglas  52.000000   87\n",
      "        Hermann  53.916667   96\n",
      "        Martha   45.750000   75\n",
      "        Timothy  42.600000   80\n",
      "East    Douglas  56.666667   81\n",
      "        Martha   52.100000   96\n",
      "West    Douglas  44.500000   57\n",
      "        Timothy  35.500000   76\n"
     ]
    }
   ],
   "source": [
    "#  Group the DataFrame by Region and Manager, then apply the aggregate functions\n",
    "\n",
    "grouped = data.groupby(['Region', 'Manager'])['Units'].agg(['mean', 'max'])\n",
    "print(grouped)"
   ]
  },
  {
   "cell_type": "markdown",
   "metadata": {},
   "source": [
    "**Aggregating Functions**\n",
    "\n",
    "\n",
    "\n",
    "- This can be really useful for tasks such as calculating **mean, sum, count, and other statistics for different groups** within our data."
   ]
  },
  {
   "cell_type": "code",
   "execution_count": 51,
   "metadata": {},
   "outputs": [
    {
     "name": "stdout",
     "output_type": "stream",
     "text": [
      "135\n"
     ]
    }
   ],
   "source": [
    "# we can use to make a statistacal calculations\n",
    "\n",
    "import pandas as pd\n",
    "\n",
    "data={\"Category\":['A', 'A', 'B', 'B', 'A', 'B'],\n",
    "        \"Value\": [10, 15, 20, 25, 30, 35]}\n",
    "df= pd.DataFrame(data)\n",
    "\n",
    "#  calculate total sum of the Value column\n",
    "sum= df[\"Value\"].agg(\"sum\")\n",
    "print(sum)\n",
    "\n",
    "\n",
    "# Like that we calculate mean, max,min etc"
   ]
  },
  {
   "cell_type": "code",
   "execution_count": 52,
   "metadata": {},
   "outputs": [
    {
     "name": "stdout",
     "output_type": "stream",
     "text": [
      "          sum       mean  max  min\n",
      "Category                          \n",
      "A          55  18.333333   30   10\n",
      "B          80  26.666667   35   20\n"
     ]
    }
   ],
   "source": [
    "# applying multiple aggregation functions to a single column\n",
    "\n",
    "result = df.groupby('Category')['Value'].agg(['sum', 'mean', 'max', 'min'])\n",
    "print(result)"
   ]
  },
  {
   "cell_type": "code",
   "execution_count": null,
   "metadata": {},
   "outputs": [],
   "source": []
  }
 ],
 "metadata": {
  "kernelspec": {
   "display_name": "Python 3",
   "language": "python",
   "name": "python3"
  },
  "language_info": {
   "codemirror_mode": {
    "name": "ipython",
    "version": 3
   },
   "file_extension": ".py",
   "mimetype": "text/x-python",
   "name": "python",
   "nbconvert_exporter": "python",
   "pygments_lexer": "ipython3",
   "version": "3.7.3"
  }
 },
 "nbformat": 4,
 "nbformat_minor": 2
}
