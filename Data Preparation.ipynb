{
 "cells": [
  {
   "cell_type": "markdown",
   "metadata": {},
   "source": [
    "# <font color='green'> Data Preparation:</font>\n",
    "\n",
    "\n",
    "\n",
    "-  Data preparation is the critical process of transforming raw data into a clean, consistent, and analysis-ready format.\n",
    "\n",
    "\n",
    "**topics under Data Preparation**\n",
    " \n",
    "- Handling Missing Values.\n",
    "\n",
    "\n",
    "- Handling Duplicates.\n",
    "\n",
    "\n",
    "- Data Formating.\n",
    "\n",
    "\n",
    "- Data Normalization.\n",
    "\n",
    "\n",
    "\n",
    "### <font color='blue'>1.Handling Missing Values:</font>\n",
    "\n",
    "\n",
    "- Missing values are usually represented in the form of **NaN or null or None or NA in the dataset.\n",
    "\n",
    "\n",
    "- According to our requirment we can remove or Repace with mean,median or other  Values.\n",
    "\n",
    "\n",
    "\n"
   ]
  },
  {
   "cell_type": "code",
   "execution_count": 1,
   "metadata": {},
   "outputs": [
    {
     "name": "stdout",
     "output_type": "stream",
     "text": [
      "   First Score  Second Score  Third Score\n",
      "0        False         False         True\n",
      "1        False         False        False\n",
      "2         True         False        False\n",
      "3        False          True        False\n",
      "First Score     1\n",
      "Second Score    1\n",
      "Third Score     1\n",
      "dtype: int64\n",
      "   First Score  Second Score  Third Score\n",
      "0          1.0           1.0          NaN\n",
      "2          NaN           3.0          2.0\n",
      "3          3.0           NaN          3.0\n"
     ]
    }
   ],
   "source": [
    "import pandas as pd\n",
    "import numpy as np\n",
    "\n",
    "# Creating Data without np.nan\n",
    "dict = {'First Score':[1, 2, \" \" , 3],\n",
    "        'Second Score': [1, 2, 3, \"NAN \"],\n",
    "        'Third Score':[\"NA\" , 1, 2, 3]}\n",
    "\n",
    "df=pd.DataFrame(dict)\n",
    "df\n",
    "# Replacing different null values at a time   \n",
    "df.replace({\" \":np.nan,\"NAN \":np.nan,\"NA\":np.nan},inplace=True)\n",
    "\n",
    "a = df.isna()\n",
    "print(a)\n",
    "\n",
    "# Count how many missing values are there in Columns  \n",
    "b = df.isna().sum()\n",
    "print(b)\n",
    "\n",
    "# Checking Rows which rows having null values\n",
    "c = df[df.isna().any(axis=1)]\n",
    "print(c) "
   ]
  },
  {
   "cell_type": "markdown",
   "metadata": {},
   "source": [
    "**Drop Rows With Missing Values**"
   ]
  },
  {
   "cell_type": "code",
   "execution_count": 2,
   "metadata": {},
   "outputs": [
    {
     "name": "stdout",
     "output_type": "stream",
     "text": [
      "   First Score  Second Score  Third Score\n",
      "1          2.0           2.0          1.0\n"
     ]
    }
   ],
   "source": [
    "dict = {'First Score':[1, 2, np.nan , 3],\n",
    "        'Second Score': [1, 2, 3, np.nan],\n",
    "        'Third Score':[np.nan , 1, 2, 3]}\n",
    "df=pd.DataFrame(dict)\n",
    "\n",
    "a=df.dropna()\n",
    "print(a)"
   ]
  },
  {
   "cell_type": "markdown",
   "metadata": {},
   "source": [
    "**Fill Missing Values**"
   ]
  },
  {
   "cell_type": "code",
   "execution_count": 3,
   "metadata": {},
   "outputs": [
    {
     "name": "stdout",
     "output_type": "stream",
     "text": [
      "     A    B    C\n",
      "0  1.0  0.0  1.0\n",
      "1  2.0  2.0  2.0\n",
      "2  3.0  3.0  0.0\n",
      "3  0.0  4.0  0.0\n",
      "4  5.0  5.0  5.0\n",
      "      A    B         C\n",
      "0  1.00  3.5  1.000000\n",
      "1  2.00  2.0  2.000000\n",
      "2  3.00  3.0  2.666667\n",
      "3  2.75  4.0  2.666667\n",
      "4  5.00  5.0  5.000000\n",
      "      A    B    C\n",
      "0  1.00  NaN  1.0\n",
      "1  2.00  2.0  2.0\n",
      "2  3.00  3.0  NaN\n",
      "3  2.75  4.0  NaN\n",
      "4  5.00  5.0  5.0\n"
     ]
    }
   ],
   "source": [
    "# fill the missing values in each column with 0\n",
    "\n",
    "data = {\n",
    "    'A': [1, 2, 3, None, 5],  \n",
    "    'B': [None, 2, 3, 4, 5],  \n",
    "    'C': [1, 2, None, None, 5]\n",
    "}\n",
    "\n",
    "df=pd.DataFrame(data)\n",
    "df.fillna(0,inplace=True)\n",
    "print(df)\n",
    "\n",
    "\n",
    "# fill missing values with the mean of each column.\n",
    "data1= {\n",
    "    'A': [1, 2, 3, None, 5],  \n",
    "    'B': [None, 2, 3, 4, 5],  \n",
    "    'C': [1, 2, None, None, 5] }\n",
    "\n",
    "df1=pd.DataFrame(data1)\n",
    "df1.fillna(df1.mean(), inplace=True)\n",
    "print(df1)\n",
    "\n",
    "# replace missing values with mean for single column\n",
    "data2= {\n",
    "    'A': [1, 2, 3, None, 5],  \n",
    "    'B': [None, 2, 3, 4, 5],  \n",
    "    'C': [1, 2, None, None, 5] }\n",
    "\n",
    "df2=pd.DataFrame(data2)\n",
    "df2[\"A\"].fillna(df2[\"A\"].mean(),inplace=True)\n",
    "print(df2)\n"
   ]
  },
  {
   "cell_type": "markdown",
   "metadata": {},
   "source": [
    "### <font color='blue'>2.Handle Duplicates Values:</font>\n",
    "\n",
    "- **duplicated()** - to check for duplicates\n",
    "\n",
    "\n",
    "- **drop_duplicates()** - remove duplicate rows\n"
   ]
  },
  {
   "cell_type": "code",
   "execution_count": 4,
   "metadata": {},
   "outputs": [
    {
     "name": "stdout",
     "output_type": "stream",
     "text": [
      "0    False\n",
      "1    False\n",
      "2     True\n",
      "3    False\n",
      "4    False\n",
      "5    False\n",
      "dtype: bool\n",
      "   A  B\n",
      "0  1  5\n",
      "1  2  6\n",
      "3  3  7\n",
      "4  3  8\n",
      "5  4  8\n"
     ]
    }
   ],
   "source": [
    "data = {\n",
    "    'A': [1,  2, 2, 3, 3, 4],\n",
    "    'B': [5, 6, 6, 7, 8, 8] }\n",
    "\n",
    "df = pd.DataFrame(data)\n",
    "\n",
    "# detect duplicates\n",
    "a=df.duplicated()\n",
    "print(a)\n",
    "\n",
    "#  remove duplicates based on column 'A'\n",
    "b=df.drop_duplicates()\n",
    "print(b)\n",
    "\n"
   ]
  },
  {
   "cell_type": "markdown",
   "metadata": {},
   "source": [
    "### <font color='blue'>3.Data Formatting:</font>\n",
    "\n",
    "\n",
    "- The process of converting the  data one formate To another formate.\n"
   ]
  },
  {
   "cell_type": "markdown",
   "metadata": {},
   "source": [
    "- **1.String Formatting**  \n",
    "- **2.Numeric Formatting**\n",
    "- **3.Data Type Conversion**"
   ]
  },
  {
   "cell_type": "code",
   "execution_count": 5,
   "metadata": {},
   "outputs": [
    {
     "name": "stdout",
     "output_type": "stream",
     "text": [
      "My name is sachin and I am 25 years old\n",
      "$1234.57\n",
      "100\n",
      "100.0\n"
     ]
    }
   ],
   "source": [
    "#  String Formatting\n",
    "\n",
    "name=\"sachin\"\n",
    "age=25\n",
    "string = f\"My name is {name} and I am {age} years old\"\n",
    "print(string)\n",
    "\n",
    "\n",
    "#  Numeric Formatting\n",
    "\n",
    "price = 1234.56789\n",
    "            # Format number to two decimal places\n",
    "formatted_price = f\"${price:.2f}\"\n",
    "print(formatted_price) \n",
    "\n",
    "\n",
    "# Data Type Conversion.\n",
    "\n",
    "num_str = \"100\"\n",
    "num_int = int(num_str)    # Convert string to integer\n",
    "print(num_int)\n",
    " \n",
    "num_float = float(num_str)  # Convert string to float\n",
    "print(num_float)  "
   ]
  },
  {
   "cell_type": "markdown",
   "metadata": {},
   "source": [
    "In a real world scenario, data are taken from various sources which causes inconsistencies in format of the data. For example, a column can have data of **integer and string** type as the data is copied from different sources."
   ]
  },
  {
   "cell_type": "code",
   "execution_count": 6,
   "metadata": {},
   "outputs": [
    {
     "name": "stdout",
     "output_type": "stream",
     "text": [
      "26.560000000000002\n"
     ]
    }
   ],
   "source": [
    "import pandas as pd\n",
    "\n",
    "\n",
    "data = {\n",
    "    'Country': ['USA', 'Canada', 'Australia', 'Germany', 'Japan'],\n",
    "    'Date': ['2023-07-20', '2023-07-21', '2023-07-22', '2023-07-23', '2023-07-24'],\n",
    "    'Temperature': [25.5, '28.0', 30.2, 22.8, 26.3]\n",
    "}\n",
    "df = pd.DataFrame(data)\n",
    "\n",
    "\n",
    "# convert temperature column to float\n",
    "df['Temperature'] = df['Temperature'].astype(float)\n",
    "\n",
    "# calculate the mean temperature\n",
    "mean_temperature = df['Temperature'].mean()\n",
    "\n",
    "print(mean_temperature)\n",
    "\n",
    "\n",
    "# we converted all the values of Temperature column to float using astype()\n",
    "\n",
    "# Here, the Temperature column contains data in an inconsistent format, with a mixture of float and string types,"
   ]
  },
  {
   "cell_type": "markdown",
   "metadata": {},
   "source": [
    "**DateTime**\n",
    "\n",
    "- we can convert any valid string to DateTime using to_datetime()"
   ]
  },
  {
   "cell_type": "code",
   "execution_count": 7,
   "metadata": {},
   "outputs": [
    {
     "name": "stdout",
     "output_type": "stream",
     "text": [
      "        date\n",
      "0 2021-01-13\n",
      "1 2022-10-22\n",
      "2 2023-12-03\n"
     ]
    }
   ],
   "source": [
    "import pandas as pd\n",
    "\n",
    "# create a dataframe with date strings\n",
    "df = pd.DataFrame({'date': ['2021-01-13', '2022-10-22', '2023-12-03']})\n",
    "df[\"date\"] = pd.to_datetime(df[\"date\"])\n",
    "print(df)"
   ]
  },
  {
   "cell_type": "markdown",
   "metadata": {},
   "source": [
    "### <font color='blue'>4.Data Normalization:</font>\n",
    "\n",
    "\n",
    "- Transforming numerical data into a standard format, which helps in improving the accuracy of the models.\n",
    "\n",
    "\n",
    "- Normalizing data is a technique used to rescale the data so that it falls within a similar scale or range."
   ]
  },
  {
   "cell_type": "markdown",
   "metadata": {},
   "source": [
    "**1.Min-Max Normalization.**\n",
    "\n",
    "- MinMaxScaler is created. This scaler will normalize the feature values to a range between **0 and 1.**"
   ]
  },
  {
   "cell_type": "code",
   "execution_count": 8,
   "metadata": {},
   "outputs": [
    {
     "data": {
      "text/html": [
       "<div>\n",
       "<style scoped>\n",
       "    .dataframe tbody tr th:only-of-type {\n",
       "        vertical-align: middle;\n",
       "    }\n",
       "\n",
       "    .dataframe tbody tr th {\n",
       "        vertical-align: top;\n",
       "    }\n",
       "\n",
       "    .dataframe thead th {\n",
       "        text-align: right;\n",
       "    }\n",
       "</style>\n",
       "<table border=\"1\" class=\"dataframe\">\n",
       "  <thead>\n",
       "    <tr style=\"text-align: right;\">\n",
       "      <th></th>\n",
       "      <th>Feature1</th>\n",
       "      <th>Feature2</th>\n",
       "    </tr>\n",
       "  </thead>\n",
       "  <tbody>\n",
       "    <tr>\n",
       "      <th>0</th>\n",
       "      <td>0.00</td>\n",
       "      <td>0.00</td>\n",
       "    </tr>\n",
       "    <tr>\n",
       "      <th>1</th>\n",
       "      <td>0.25</td>\n",
       "      <td>0.25</td>\n",
       "    </tr>\n",
       "    <tr>\n",
       "      <th>2</th>\n",
       "      <td>0.50</td>\n",
       "      <td>0.50</td>\n",
       "    </tr>\n",
       "    <tr>\n",
       "      <th>3</th>\n",
       "      <td>0.75</td>\n",
       "      <td>0.75</td>\n",
       "    </tr>\n",
       "    <tr>\n",
       "      <th>4</th>\n",
       "      <td>1.00</td>\n",
       "      <td>1.00</td>\n",
       "    </tr>\n",
       "  </tbody>\n",
       "</table>\n",
       "</div>"
      ],
      "text/plain": [
       "   Feature1  Feature2\n",
       "0      0.00      0.00\n",
       "1      0.25      0.25\n",
       "2      0.50      0.50\n",
       "3      0.75      0.75\n",
       "4      1.00      1.00"
      ]
     },
     "execution_count": 8,
     "metadata": {},
     "output_type": "execute_result"
    }
   ],
   "source": [
    "import pandas as pd\n",
    "\n",
    "data = {\n",
    "    'Feature1': [10, 20, 30, 40, 50],\n",
    "    'Feature2': [100, 200, 300, 400, 500]\n",
    "}\n",
    "df = pd.DataFrame(data)\n",
    "\n",
    "\n",
    "\n",
    "from sklearn.preprocessing import MinMaxScaler\n",
    "\n",
    "min_max_scaler = MinMaxScaler()\n",
    "\n",
    "df[['Feature1', 'Feature2']] = min_max_scaler.fit_transform(df[['Feature1', 'Feature2']])\n",
    "df[['Feature1', 'Feature2']] "
   ]
  },
  {
   "cell_type": "markdown",
   "metadata": {},
   "source": [
    "**2. Z-Score Normalization.**\n",
    "\n",
    "\n",
    "- z-score normalization sees features rescaled in a way that follows standard normal distribution property with μ=0 and σ=1,\n",
    "\n",
    "\n",
    "\n",
    "z = (X – μ) / σ\n",
    "\n",
    "where:\n",
    "\n",
    "- X is a single raw data value\n",
    "- μ is the population mean\n",
    "- σ is the population standard deviation"
   ]
  },
  {
   "cell_type": "code",
   "execution_count": 9,
   "metadata": {},
   "outputs": [
    {
     "data": {
      "text/html": [
       "<div>\n",
       "<style scoped>\n",
       "    .dataframe tbody tr th:only-of-type {\n",
       "        vertical-align: middle;\n",
       "    }\n",
       "\n",
       "    .dataframe tbody tr th {\n",
       "        vertical-align: top;\n",
       "    }\n",
       "\n",
       "    .dataframe thead th {\n",
       "        text-align: right;\n",
       "    }\n",
       "</style>\n",
       "<table border=\"1\" class=\"dataframe\">\n",
       "  <thead>\n",
       "    <tr style=\"text-align: right;\">\n",
       "      <th></th>\n",
       "      <th>Feature1</th>\n",
       "      <th>Feature2</th>\n",
       "    </tr>\n",
       "  </thead>\n",
       "  <tbody>\n",
       "    <tr>\n",
       "      <th>0</th>\n",
       "      <td>-1.414214</td>\n",
       "      <td>-1.414214</td>\n",
       "    </tr>\n",
       "    <tr>\n",
       "      <th>1</th>\n",
       "      <td>-0.707107</td>\n",
       "      <td>-0.707107</td>\n",
       "    </tr>\n",
       "    <tr>\n",
       "      <th>2</th>\n",
       "      <td>0.000000</td>\n",
       "      <td>0.000000</td>\n",
       "    </tr>\n",
       "    <tr>\n",
       "      <th>3</th>\n",
       "      <td>0.707107</td>\n",
       "      <td>0.707107</td>\n",
       "    </tr>\n",
       "    <tr>\n",
       "      <th>4</th>\n",
       "      <td>1.414214</td>\n",
       "      <td>1.414214</td>\n",
       "    </tr>\n",
       "  </tbody>\n",
       "</table>\n",
       "</div>"
      ],
      "text/plain": [
       "   Feature1  Feature2\n",
       "0 -1.414214 -1.414214\n",
       "1 -0.707107 -0.707107\n",
       "2  0.000000  0.000000\n",
       "3  0.707107  0.707107\n",
       "4  1.414214  1.414214"
      ]
     },
     "execution_count": 9,
     "metadata": {},
     "output_type": "execute_result"
    }
   ],
   "source": [
    "import pandas as pd\n",
    "from sklearn.preprocessing import StandardScaler\n",
    "\n",
    "\n",
    "data = {\n",
    "    'Feature1': [10, 20, 30, 40, 50],\n",
    "    'Feature2': [100, 200, 300, 400, 500]\n",
    "}\n",
    "df = pd.DataFrame(data)\n",
    "\n",
    "\n",
    "\n",
    "standard_scaler = StandardScaler()\n",
    "\n",
    "df[['Feature1', 'Feature2']] = standard_scaler.fit_transform(df[['Feature1', 'Feature2']])\n",
    "df[['Feature1', 'Feature2']]"
   ]
  },
  {
   "cell_type": "code",
   "execution_count": null,
   "metadata": {},
   "outputs": [],
   "source": []
  }
 ],
 "metadata": {
  "kernelspec": {
   "display_name": "Python 3",
   "language": "python",
   "name": "python3"
  },
  "language_info": {
   "codemirror_mode": {
    "name": "ipython",
    "version": 3
   },
   "file_extension": ".py",
   "mimetype": "text/x-python",
   "name": "python",
   "nbconvert_exporter": "python",
   "pygments_lexer": "ipython3",
   "version": "3.7.3"
  }
 },
 "nbformat": 4,
 "nbformat_minor": 2
}
